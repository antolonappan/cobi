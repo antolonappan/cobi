{
 "cells": [
  {
   "cell_type": "code",
   "execution_count": 1,
   "metadata": {},
   "outputs": [],
   "source": [
    "import matplotlib.pyplot as plt\n",
    "import healpy as hp\n",
    "import numpy as np\n",
    "import sys\n",
    "import os\n",
    "sys.path.append('..')"
   ]
  },
  {
   "cell_type": "code",
   "execution_count": 4,
   "metadata": {},
   "outputs": [
    {
     "name": "stdout",
     "output_type": "stream",
     "text": [
      "The autoreload extension is already loaded. To reload it, use:\n",
      "  %reload_ext autoreload\n"
     ]
    }
   ],
   "source": [
    "%load_ext autoreload\n",
    "%autoreload 2\n",
    "from lat_cb.signal import *\n",
    "from lat_cb.spectra import *\n",
    "from lat_cb.mle import *"
   ]
  },
  {
   "cell_type": "code",
   "execution_count": 5,
   "metadata": {},
   "outputs": [],
   "source": [
    "libdir = '/Users/antoidicherianlonappan/Workspace/scratch'\n",
    "nside = 512\n",
    "alpha = 0.35\n",
    "dust = 1\n",
    "synch = 1\n",
    "beta = [0.1,0.1,0.8,0.8,1.2,1.2]\n",
    "lmax = 1000\n",
    "lat = Spectra(libdir,nside,alpha,dust,synch,beta,lmax)"
   ]
  },
  {
   "cell_type": "code",
   "execution_count": 6,
   "metadata": {},
   "outputs": [
    {
     "name": "stderr",
     "output_type": "stream",
     "text": [
      "obs x obs spectra: 100%|██████████| 6/6 [00:00<00:00, 1352.27band/s]\n",
      "dust x obs spectra: 100%|██████████| 6/6 [00:00<00:00, 1075.83band/s]\n",
      "dust x dust spectra: 100%|██████████| 6/6 [00:00<00:00, 1576.02band/s]\n",
      "sync x dust spectra: 100%|██████████| 6/6 [00:00<00:00, 1106.63band/s]\n",
      "sync x sync spectra: 100%|██████████| 6/6 [00:00<00:00, 1510.19band/s]\n",
      "sync x obs spectra: 100%|██████████| 6/6 [00:00<00:00, 1206.47band/s]\n"
     ]
    }
   ],
   "source": [
    "lat.compute(0)"
   ]
  },
  {
   "cell_type": "code",
   "execution_count": 7,
   "metadata": {},
   "outputs": [],
   "source": [
    "ml = MLE(libdir,nside,alpha,dust,synch,beta,lmax)"
   ]
  },
  {
   "cell_type": "code",
   "execution_count": 8,
   "metadata": {},
   "outputs": [
    {
     "name": "stderr",
     "output_type": "stream",
     "text": [
      "obs x obs spectra: 100%|██████████| 6/6 [00:00<00:00, 3133.20band/s]\n",
      "dust x obs spectra: 100%|██████████| 6/6 [00:00<00:00, 1697.87band/s]\n",
      "sync x obs spectra: 100%|██████████| 6/6 [00:00<00:00, 3215.67band/s]\n",
      "dust x dust spectra: 100%|██████████| 6/6 [00:00<00:00, 2962.78band/s]\n",
      "sync x sync spectra: 100%|██████████| 6/6 [00:00<00:00, 583.38band/s]\n",
      "sync x dust spectra: 100%|██████████| 6/6 [00:00<00:00, 2191.57band/s]\n"
     ]
    }
   ],
   "source": [
    "ang = ml.calculate(0)"
   ]
  },
  {
   "cell_type": "code",
   "execution_count": 9,
   "metadata": {},
   "outputs": [
    {
     "data": {
      "text/plain": [
       "array([[57.29577951, 57.29577951, 57.29577951,  0.        ,  0.        ,\n",
       "         0.        ,  0.        ,  0.        ,  0.        ,  0.        ],\n",
       "       [58.45065219, 57.40053968, 58.21854182,  0.35343459,  0.16665531,\n",
       "         0.14421742,  0.84110398,  0.86346384,  1.27242318,  1.27383581]])"
      ]
     },
     "execution_count": 9,
     "metadata": {},
     "output_type": "execute_result"
    }
   ],
   "source": [
    "np.rad2deg(ang)"
   ]
  },
  {
   "cell_type": "code",
   "execution_count": null,
   "metadata": {},
   "outputs": [],
   "source": []
  }
 ],
 "metadata": {
  "kernelspec": {
   "display_name": "cb",
   "language": "python",
   "name": "python3"
  },
  "language_info": {
   "codemirror_mode": {
    "name": "ipython",
    "version": 3
   },
   "file_extension": ".py",
   "mimetype": "text/x-python",
   "name": "python",
   "nbconvert_exporter": "python",
   "pygments_lexer": "ipython3",
   "version": "3.9.18"
  }
 },
 "nbformat": 4,
 "nbformat_minor": 2
}
