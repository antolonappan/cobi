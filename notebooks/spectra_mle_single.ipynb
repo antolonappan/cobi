{
 "cells": [
  {
   "cell_type": "code",
   "execution_count": 1,
   "metadata": {},
   "outputs": [],
   "source": [
    "\n",
    "import numpy as np\n",
    "import matplotlib.pyplot as plt\n",
    "import sys\n",
    "import os\n",
    "from tqdm import tqdm\n",
    "sys.path.append('..')"
   ]
  },
  {
   "cell_type": "code",
   "execution_count": 2,
   "metadata": {},
   "outputs": [],
   "source": [
    "%load_ext autoreload\n",
    "%autoreload 2\n",
    "from lat_cb.signal import *\n",
    "from lat_cb.spectra import *\n",
    "from lat_cb.mle import *"
   ]
  },
  {
   "cell_type": "code",
   "execution_count": 22,
   "metadata": {},
   "outputs": [],
   "source": [
    "libdir ='/pscratch/sd/l/lonappan/SOLAT'\n",
    "nside = 1024\n",
    "alpha = 0.35\n",
    "dust = 1\n",
    "synch = 1\n",
    "beta = [0.1,0.1,0.2,0.2,.3,.3]\n",
    "atm_noise = True\n",
    "atm_corr = False\n",
    "nhits = False\n",
    "bandpass = False"
   ]
  },
  {
   "cell_type": "code",
   "execution_count": 25,
   "metadata": {},
   "outputs": [
    {
     "name": "stdout",
     "output_type": "stream",
     "text": [
      "Noise Model: Atmospheric Noise\n",
      "Reading coupling matrix from /pscratch/sd/l/lonappan/SOLAT/spectra_1024_atm/workspaces/coupling_matrix_Nside1024_fsky_0p64.fits\n"
     ]
    }
   ],
   "source": [
    "lat = LATsky(libdir,nside,alpha,dust,synch,beta,atm_noise,atm_corr,nhits,bandpass)\n",
    "spec = Spectra(libdir,lat)"
   ]
  },
  {
   "cell_type": "code",
   "execution_count": 26,
   "metadata": {},
   "outputs": [
    {
     "name": "stderr",
     "output_type": "stream",
     "text": [
      "obs x obs spectra: 100%|██████████| 6/6 [01:05<00:00, 10.95s/band]\n",
      "dust x obs spectra: 100%|██████████| 6/6 [01:43<00:00, 17.19s/band]\n",
      "dust x dust spectra: 100%|██████████| 6/6 [01:03<00:00, 10.53s/band]\n",
      "sync x dust spectra: 100%|██████████| 6/6 [01:42<00:00, 17.07s/band]\n",
      "sync x sync spectra: 100%|██████████| 6/6 [01:06<00:00, 11.16s/band]\n",
      "sync x obs spectra: 100%|██████████| 6/6 [01:38<00:00, 16.37s/band]\n"
     ]
    }
   ],
   "source": [
    "spec.compute(1)"
   ]
  },
  {
   "cell_type": "code",
   "execution_count": 27,
   "metadata": {},
   "outputs": [],
   "source": [
    "binwidth = 20\n",
    "bmin = 50\n",
    "bmax = 1500"
   ]
  },
  {
   "cell_type": "code",
   "execution_count": 28,
   "metadata": {},
   "outputs": [],
   "source": [
    "ml = MLE(libdir,spec,binwidth,bmin,bmax)"
   ]
  },
  {
   "cell_type": "code",
   "execution_count": 29,
   "metadata": {},
   "outputs": [],
   "source": [
    "ang,cov,std = ml.calculate(1)"
   ]
  },
  {
   "cell_type": "code",
   "execution_count": 30,
   "metadata": {},
   "outputs": [
    {
     "data": {
      "text/plain": [
       "array([[57.29577951, 57.29577951, 57.29577951,  0.        ,  0.        ,\n",
       "         0.        ,  0.        ,  0.        ,  0.        ,  0.        ],\n",
       "       [78.46422982, 69.86600852, 32.89810962,  0.70157561,  0.29942362,\n",
       "        -0.16097889,  0.14934107, -0.1408319 ,  0.19949223, -0.09273836],\n",
       "       [78.80637628, 70.44048025, 32.21669008,  0.70725792,  0.29429947,\n",
       "        -0.16642386,  0.14352585, -0.14566211,  0.19383423, -0.10013765]])"
      ]
     },
     "execution_count": 30,
     "metadata": {},
     "output_type": "execute_result"
    }
   ],
   "source": [
    "np.rad2deg(ang)"
   ]
  },
  {
   "cell_type": "code",
   "execution_count": 31,
   "metadata": {},
   "outputs": [
    {
     "data": {
      "text/plain": [
       "array([43.78442203, 12.46430962, 16.4118129 ,  0.4173883 ,  0.6363297 ,\n",
       "        0.55632831,  0.44161669,  0.41350005,  0.38678838,  0.3885175 ])"
      ]
     },
     "execution_count": 31,
     "metadata": {},
     "output_type": "execute_result"
    }
   ],
   "source": [
    "np.rad2deg(std[-1])"
   ]
  },
  {
   "cell_type": "code",
   "execution_count": null,
   "metadata": {},
   "outputs": [],
   "source": []
  },
  {
   "cell_type": "code",
   "execution_count": null,
   "metadata": {},
   "outputs": [],
   "source": []
  }
 ],
 "metadata": {
  "kernelspec": {
   "display_name": "cb",
   "language": "python",
   "name": "python3"
  },
  "language_info": {
   "codemirror_mode": {
    "name": "ipython",
    "version": 3
   },
   "file_extension": ".py",
   "mimetype": "text/x-python",
   "name": "python",
   "nbconvert_exporter": "python",
   "pygments_lexer": "ipython3",
   "version": "3.9.18"
  }
 },
 "nbformat": 4,
 "nbformat_minor": 2
}
