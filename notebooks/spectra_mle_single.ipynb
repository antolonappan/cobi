{
 "cells": [
  {
   "cell_type": "code",
   "execution_count": 1,
   "metadata": {},
   "outputs": [],
   "source": [
    "\n",
    "import numpy as np\n",
    "import matplotlib.pyplot as plt\n",
    "import sys\n",
    "import os\n",
    "from tqdm import tqdm\n",
    "sys.path.append('..')"
   ]
  },
  {
   "cell_type": "code",
   "execution_count": 2,
   "metadata": {},
   "outputs": [],
   "source": [
    "%load_ext autoreload\n",
    "%autoreload 2\n",
    "from lat_cb.signal import *\n",
    "from lat_cb.spectra import *\n",
    "from lat_cb.mle import *"
   ]
  },
  {
   "cell_type": "code",
   "execution_count": 6,
   "metadata": {},
   "outputs": [],
   "source": [
    "libdir ='/pscratch/sd/l/lonappan/SOLAT'\n",
    "nside = 512\n",
    "beta = 0.35\n",
    "dust = 10\n",
    "synch = 5\n",
    "alpha = [0.1,0.1,0.2,0.2,.3,.3]\n",
    "atm_noise = False\n",
    "nsplits = 2\n",
    "bandpass = False"
   ]
  },
  {
   "cell_type": "code",
   "execution_count": 8,
   "metadata": {},
   "outputs": [
    {
     "name": "stderr",
     "output_type": "stream",
     "text": [
      "Downloading /pscratch/sd/l/lonappan/SOLAT/Mask/mask.fits: 100%|██████████| 201M/201M [00:08<00:00, 22.6MiB/s] \n"
     ]
    },
    {
     "name": "stdout",
     "output_type": "stream",
     "text": [
      "Noise Model: White noise v3.0.0\n",
      "Reading apodised mask from /pscratch/sd/l/lonappan/SOLAT/spectra_512_aposcale1p0_common/workspaces/mask_N512_aposcale1p0.fits\n",
      "Reading coupling matrix from /pscratch/sd/l/lonappan/SOLAT/spectra_512_aposcale1p0_common/workspaces/coupling_matrix_N512_fsky0p63_aposcale1p0.fits\n"
     ]
    }
   ],
   "source": [
    "lat = LATsky(libdir,nside,beta,dust,synch,alpha,atm_noise,nsplits,bandpass)\n",
    "spec = Spectra(libdir,lat)"
   ]
  },
  {
   "cell_type": "code",
   "execution_count": 10,
   "metadata": {},
   "outputs": [
    {
     "name": "stderr",
     "output_type": "stream",
     "text": [
      "dust x dust spectra: 100%|██████████| 6/6 [00:00<00:00, 550.24band/s]\n",
      "obs x obs spectra: 100%|██████████| 12/12 [00:00<00:00, 340.51band/s]\n",
      "dust x obs spectra: 100%|██████████| 6/6 [00:00<00:00, 451.31band/s]\n",
      "sync x dust spectra: 100%|██████████| 6/6 [01:08<00:00, 11.34s/band]\n",
      "sync x sync spectra: 100%|██████████| 6/6 [00:44<00:00,  7.34s/band]\n",
      "sync x obs spectra: 100%|██████████| 6/6 [02:07<00:00, 21.17s/band]\n"
     ]
    }
   ],
   "source": [
    "spec.compute(0,True)"
   ]
  },
  {
   "cell_type": "code",
   "execution_count": 11,
   "metadata": {},
   "outputs": [],
   "source": [
    "binwidth = 20\n",
    "bmin = 50\n",
    "bmax = 1500"
   ]
  },
  {
   "cell_type": "code",
   "execution_count": 13,
   "metadata": {},
   "outputs": [],
   "source": [
    "ml = MLE(libdir,spec,binwidth,bmin,bmax,rm_corr=False)"
   ]
  },
  {
   "cell_type": "code",
   "execution_count": 18,
   "metadata": {},
   "outputs": [
    {
     "ename": "IndexError",
     "evalue": "index 6 is out of bounds for axis 1 with size 6",
     "output_type": "error",
     "traceback": [
      "\u001b[0;31m---------------------------------------------------------------------------\u001b[0m",
      "\u001b[0;31mIndexError\u001b[0m                                Traceback (most recent call last)",
      "Cell \u001b[0;32mIn[18], line 1\u001b[0m\n\u001b[0;32m----> 1\u001b[0m ang,cov,std \u001b[38;5;241m=\u001b[39m \u001b[43mml\u001b[49m\u001b[38;5;241;43m.\u001b[39;49m\u001b[43mcalculate\u001b[49m\u001b[43m(\u001b[49m\u001b[38;5;241;43m0\u001b[39;49m\u001b[43m)\u001b[49m\n",
      "File \u001b[0;32m/global/u2/l/lonappan/workspace/solat_cb/notebooks/../lat_cb/mle.py:601\u001b[0m, in \u001b[0;36mMLE.calculate\u001b[0;34m(self, idx)\u001b[0m\n\u001b[1;32m    599\u001b[0m BBo_ij_b[ii,jj,:]   \u001b[38;5;241m=\u001b[39m cl_o_o[pos_i, pos_j, \u001b[38;5;241m1\u001b[39m, :\u001b[38;5;28mself\u001b[39m\u001b[38;5;241m.\u001b[39mbmax\u001b[38;5;241m+\u001b[39m\u001b[38;5;241m1\u001b[39m]\n\u001b[1;32m    600\u001b[0m EBo_ij_b[ii,jj,:]   \u001b[38;5;241m=\u001b[39m cl_o_o[pos_i, pos_j, \u001b[38;5;241m2\u001b[39m, :\u001b[38;5;28mself\u001b[39m\u001b[38;5;241m.\u001b[39mbmax\u001b[38;5;241m+\u001b[39m\u001b[38;5;241m1\u001b[39m]\n\u001b[0;32m--> 601\u001b[0m EBd_ij_b[ii,jj,:]   \u001b[38;5;241m=\u001b[39m \u001b[43mcl_d_d\u001b[49m\u001b[43m[\u001b[49m\u001b[43mpos_i\u001b[49m\u001b[43m,\u001b[49m\u001b[43m \u001b[49m\u001b[43mpos_j\u001b[49m\u001b[43m,\u001b[49m\u001b[43m \u001b[49m\u001b[38;5;241;43m2\u001b[39;49m\u001b[43m,\u001b[49m\u001b[43m \u001b[49m\u001b[43m:\u001b[49m\u001b[38;5;28;43mself\u001b[39;49m\u001b[38;5;241;43m.\u001b[39;49m\u001b[43mbmax\u001b[49m\u001b[38;5;241;43m+\u001b[39;49m\u001b[38;5;241;43m1\u001b[39;49m\u001b[43m]\u001b[49m\n\u001b[1;32m    602\u001b[0m EBs_ij_b[ii,jj,:]   \u001b[38;5;241m=\u001b[39m cl_s_s[pos_i, pos_j, \u001b[38;5;241m2\u001b[39m, :\u001b[38;5;28mself\u001b[39m\u001b[38;5;241m.\u001b[39mbmax\u001b[38;5;241m+\u001b[39m\u001b[38;5;241m1\u001b[39m]\n\u001b[1;32m    603\u001b[0m EsBd_ij_b[ii,jj,:]  \u001b[38;5;241m=\u001b[39m cl_s_d[pos_i, pos_j, \u001b[38;5;241m2\u001b[39m, :\u001b[38;5;28mself\u001b[39m\u001b[38;5;241m.\u001b[39mbmax\u001b[38;5;241m+\u001b[39m\u001b[38;5;241m1\u001b[39m]\n",
      "\u001b[0;31mIndexError\u001b[0m: index 6 is out of bounds for axis 1 with size 6"
     ]
    }
   ],
   "source": [
    "ang,cov,std = ml.calculate(0)"
   ]
  },
  {
   "cell_type": "code",
   "execution_count": 43,
   "metadata": {},
   "outputs": [
    {
     "data": {
      "text/plain": [
       "array([31.03366283, 59.99090571,  6.52934239,  0.6340012 , -0.95262953,\n",
       "        2.9536418 ,  0.3457066 ,  0.5506764 , -0.66767315,  0.45747423,\n",
       "       -0.6762194 ,  0.95413853, -0.752258  ,  0.36756174,  0.40203413,\n",
       "       -0.23408612])"
      ]
     },
     "execution_count": 43,
     "metadata": {},
     "output_type": "execute_result"
    }
   ],
   "source": [
    "np.rad2deg(ang[-1])"
   ]
  },
  {
   "cell_type": "code",
   "execution_count": 23,
   "metadata": {},
   "outputs": [
    {
     "data": {
      "text/plain": [
       "array([11.54560716,  0.33998873,  4.07990678,  0.03622175,  0.07338451,\n",
       "        0.04427841,  0.02942542,  0.02853254,  0.02897931,  0.0293312 ,\n",
       "        0.05599849,  0.05100405,  0.02945588,  0.02894324,  0.02918507,\n",
       "        0.029486  ])"
      ]
     },
     "execution_count": 23,
     "metadata": {},
     "output_type": "execute_result"
    }
   ],
   "source": [
    "np.rad2deg(std[-1])"
   ]
  },
  {
   "cell_type": "code",
   "execution_count": null,
   "metadata": {},
   "outputs": [],
   "source": []
  }
 ],
 "metadata": {
  "kernelspec": {
   "display_name": "Python 3",
   "language": "python",
   "name": "python3"
  },
  "language_info": {
   "codemirror_mode": {
    "name": "ipython",
    "version": 3
   },
   "file_extension": ".py",
   "mimetype": "text/x-python",
   "name": "python",
   "nbconvert_exporter": "python",
   "pygments_lexer": "ipython3",
   "version": "3.9.18"
  }
 },
 "nbformat": 4,
 "nbformat_minor": 2
}
