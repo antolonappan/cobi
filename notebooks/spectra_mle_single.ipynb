{
 "cells": [
  {
   "cell_type": "code",
   "execution_count": 1,
   "metadata": {},
   "outputs": [],
   "source": [
    "\n",
    "import numpy as np\n",
    "import matplotlib.pyplot as plt\n",
    "import sys\n",
    "import os\n",
    "from tqdm import tqdm\n",
    "sys.path.append('..')"
   ]
  },
  {
   "cell_type": "code",
   "execution_count": 2,
   "metadata": {},
   "outputs": [],
   "source": [
    "%load_ext autoreload\n",
    "%autoreload 2\n",
    "from lat_cb.signal import *\n",
    "from lat_cb.spectra import *\n",
    "from lat_cb.mle import *"
   ]
  },
  {
   "cell_type": "code",
   "execution_count": 3,
   "metadata": {},
   "outputs": [],
   "source": [
    "libdir ='/pscratch/sd/l/lonappan/SOLAT'\n",
    "nside = 512\n",
    "beta = 0.35\n",
    "dust = 10\n",
    "synch = 5\n",
    "alpha = [0.1,0.1,0.2,0.2,.3,.3]\n",
    "atm_noise = False\n",
    "nsplits = 2\n",
    "bandpass = False"
   ]
  },
  {
   "cell_type": "code",
   "execution_count": 4,
   "metadata": {},
   "outputs": [
    {
     "name": "stdout",
     "output_type": "stream",
     "text": [
      "Noise Model: White noise v3.0.0\n",
      "Reading apodised mask from /pscratch/sd/l/lonappan/SOLAT/LAT_white_noise_2splits/spectra_512_aposcale2p0_common/workspaces/mask_N512_aposcale2p0_CO_PS.fits\n",
      "Reading coupling matrix from /pscratch/sd/l/lonappan/SOLAT/LAT_white_noise_2splits/spectra_512_aposcale2p0_common/workspaces/coupling_matrix_N512_fsky0p55_aposcale2p0_CO_PS.fits\n"
     ]
    }
   ],
   "source": [
    "lat = LATsky(libdir,nside,beta,dust,synch,alpha,atm_noise,nsplits,bandpass)\n",
    "spec = Spectra(lat)"
   ]
  },
  {
   "cell_type": "code",
   "execution_count": 5,
   "metadata": {},
   "outputs": [
    {
     "name": "stderr",
     "output_type": "stream",
     "text": [
      "dust x dust spectra: 100%|██████████| 6/6 [00:00<00:00, 167.64band/s]\n",
      "obs x obs spectra: 100%|██████████| 12/12 [00:00<00:00, 78.31band/s]\n",
      "dust x obs spectra: 100%|██████████| 6/6 [00:00<00:00, 121.45band/s]\n",
      "sync x dust spectra: 100%|██████████| 6/6 [00:00<00:00, 148.18band/s]\n",
      "sync x sync spectra: 100%|██████████| 6/6 [00:00<00:00, 180.77band/s]\n",
      "sync x obs spectra: 100%|██████████| 6/6 [00:00<00:00, 119.69band/s]\n"
     ]
    }
   ],
   "source": [
    "spec.compute(0,True)"
   ]
  },
  {
   "cell_type": "code",
   "execution_count": 6,
   "metadata": {},
   "outputs": [],
   "source": [
    "fit = \"As + Asd + Ad + beta + alpha\"\n",
    "binwidth = 20\n",
    "bmin = 50\n",
    "bmax = 1500"
   ]
  },
  {
   "cell_type": "code",
   "execution_count": 7,
   "metadata": {},
   "outputs": [
    {
     "name": "stdout",
     "output_type": "stream",
     "text": [
      "Fitting a common polarisation angle per frequency\n"
     ]
    }
   ],
   "source": [
    "ml = MLE(libdir,spec,fit, alpha_per_split=False,rm_same_tube=False)"
   ]
  },
  {
   "cell_type": "code",
   "execution_count": 8,
   "metadata": {},
   "outputs": [
    {
     "data": {
      "text/plain": [
       "{'As': 0.9160910221477889,\n",
       " 'Asd': 0.9948265168339767,\n",
       " 'Ad': 1.01061293905273,\n",
       " 'beta': 0.3030249271945431,\n",
       " '27': 0.12269993354402743,\n",
       " '39': 0.14963783921250937,\n",
       " '93': 0.24378360151375691,\n",
       " '145': 0.2497996895577533,\n",
       " '225': 0.3486274989004295,\n",
       " '280': 0.3485749740897966}"
      ]
     },
     "execution_count": 8,
     "metadata": {},
     "output_type": "execute_result"
    }
   ],
   "source": [
    "ml.estimate_angles(0)"
   ]
  },
  {
   "cell_type": "code",
   "execution_count": null,
   "metadata": {},
   "outputs": [],
   "source": []
  }
 ],
 "metadata": {
  "kernelspec": {
   "display_name": "Python 3",
   "language": "python",
   "name": "python3"
  },
  "language_info": {
   "codemirror_mode": {
    "name": "ipython",
    "version": 3
   },
   "file_extension": ".py",
   "mimetype": "text/x-python",
   "name": "python",
   "nbconvert_exporter": "python",
   "pygments_lexer": "ipython3",
   "version": "3.10.15"
  }
 },
 "nbformat": 4,
 "nbformat_minor": 2
}
