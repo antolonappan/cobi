{
 "cells": [
  {
   "cell_type": "code",
   "execution_count": 2,
   "metadata": {},
   "outputs": [],
   "source": [
    "\n",
    "import numpy as np\n",
    "import matplotlib.pyplot as plt\n",
    "import sys\n",
    "import os\n",
    "from tqdm import tqdm\n",
    "sys.path.append('..')"
   ]
  },
  {
   "cell_type": "code",
   "execution_count": 3,
   "metadata": {},
   "outputs": [],
   "source": [
    "%load_ext autoreload\n",
    "%autoreload 2\n",
    "from lat_cb.signal import *\n",
    "from lat_cb.spectra import *\n",
    "from lat_cb.mle import *"
   ]
  },
  {
   "cell_type": "code",
   "execution_count": 43,
   "metadata": {},
   "outputs": [
    {
     "name": "stdout",
     "output_type": "stream",
     "text": [
      "Noise Model: Atmospheric Noise\n"
     ]
    }
   ],
   "source": [
    "libdir ='/pscratch/sd/l/lonappan/SOLAT'\n",
    "nside = 1024\n",
    "alpha = 0.35\n",
    "dust = 1\n",
    "synch = 1\n",
    "beta = [0.1,0.1,0.2,0.2,.3,.3]\n",
    "lmax = 1000\n",
    "atm_noise = True\n",
    "atm_corr = False\n",
    "lat = Spectra(libdir,nside,alpha,dust,synch,beta,lmax,atm_noise,atm_corr)"
   ]
  },
  {
   "cell_type": "code",
   "execution_count": 44,
   "metadata": {},
   "outputs": [
    {
     "name": "stderr",
     "output_type": "stream",
     "text": [
      "obs x obs spectra: 100%|██████████| 6/6 [02:25<00:00, 24.33s/band]\n",
      "dust x obs spectra: 100%|██████████| 6/6 [03:57<00:00, 39.63s/band]\n",
      "dust x dust spectra: 100%|██████████| 6/6 [02:27<00:00, 24.62s/band]\n",
      "sync x dust spectra: 100%|██████████| 6/6 [03:56<00:00, 39.43s/band]\n",
      "sync x sync spectra: 100%|██████████| 6/6 [02:27<00:00, 24.53s/band]\n",
      "sync x obs spectra: 100%|██████████| 6/6 [03:56<00:00, 39.49s/band]\n"
     ]
    }
   ],
   "source": [
    "lat.compute(1)"
   ]
  },
  {
   "cell_type": "code",
   "execution_count": 52,
   "metadata": {},
   "outputs": [
    {
     "name": "stdout",
     "output_type": "stream",
     "text": [
      "Noise Model: Atmospheric Noise\n"
     ]
    }
   ],
   "source": [
    "ml = MLE(libdir,nside,alpha,dust,synch,beta,lmax,atm_noise,atm_corr)"
   ]
  },
  {
   "cell_type": "code",
   "execution_count": 55,
   "metadata": {},
   "outputs": [],
   "source": [
    "ang,cov,std = ml.calculate(1)"
   ]
  },
  {
   "cell_type": "code",
   "execution_count": 56,
   "metadata": {},
   "outputs": [
    {
     "data": {
      "text/plain": [
       "array([[57.29577951, 57.29577951, 57.29577951,  0.        ,  0.        ,\n",
       "         0.        ,  0.        ,  0.        ,  0.        ,  0.        ],\n",
       "       [79.76697151, 60.60386143, 62.54254257, -0.35254774,  0.53920628,\n",
       "         0.64627027,  1.09795532,  0.89108578,  0.82667227,  0.77359096],\n",
       "       [80.12450403, 60.45474724, 62.42998651, -0.35518211,  0.54390723,\n",
       "         0.64731823,  1.10095916,  0.89388519,  0.82841103,  0.77631976]])"
      ]
     },
     "execution_count": 56,
     "metadata": {},
     "output_type": "execute_result"
    }
   ],
   "source": [
    "np.rad2deg(ang)"
   ]
  },
  {
   "cell_type": "code",
   "execution_count": 15,
   "metadata": {},
   "outputs": [
    {
     "data": {
      "text/plain": [
       "array([18.90528378,  5.87877267, 11.46192778,  0.34398861,  0.48338652,\n",
       "        0.50016783,  0.38839518,  0.32174663,  0.25001974,  0.23497224])"
      ]
     },
     "execution_count": 15,
     "metadata": {},
     "output_type": "execute_result"
    }
   ],
   "source": [
    "np.rad2deg(std[-1])"
   ]
  },
  {
   "cell_type": "code",
   "execution_count": null,
   "metadata": {},
   "outputs": [],
   "source": []
  }
 ],
 "metadata": {
  "kernelspec": {
   "display_name": "cb",
   "language": "python",
   "name": "python3"
  },
  "language_info": {
   "codemirror_mode": {
    "name": "ipython",
    "version": 3
   },
   "file_extension": ".py",
   "mimetype": "text/x-python",
   "name": "python",
   "nbconvert_exporter": "python",
   "pygments_lexer": "ipython3",
   "version": "3.9.18"
  }
 },
 "nbformat": 4,
 "nbformat_minor": 2
}
