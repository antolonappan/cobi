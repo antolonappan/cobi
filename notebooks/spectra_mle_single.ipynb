{
 "cells": [
  {
   "cell_type": "code",
   "execution_count": 1,
   "metadata": {},
   "outputs": [],
   "source": [
    "\n",
    "import numpy as np\n",
    "import matplotlib.pyplot as plt\n",
    "import sys\n",
    "import os\n",
    "from tqdm import tqdm\n",
    "sys.path.append('..')"
   ]
  },
  {
   "cell_type": "code",
   "execution_count": 2,
   "metadata": {},
   "outputs": [],
   "source": [
    "%load_ext autoreload\n",
    "%autoreload 2\n",
    "from lat_cb.signal import *\n",
    "from lat_cb.spectra import *\n",
    "from lat_cb.mle import *"
   ]
  },
  {
   "cell_type": "code",
   "execution_count": 3,
   "metadata": {},
   "outputs": [],
   "source": [
    "libdir ='/pscratch/sd/l/lonappan/SOLAT'\n",
    "nside = 512\n",
    "alpha = 0.35\n",
    "dust = 1\n",
    "synch = 1\n",
    "beta = [0.1,0.1,0.2,0.2,.3,.3,0.1,0.1,0.2,0.2,.3,.3]\n",
    "atm_noise = False\n",
    "atm_corr = False\n",
    "nhits = False\n",
    "bandpass = False"
   ]
  },
  {
   "cell_type": "code",
   "execution_count": 4,
   "metadata": {},
   "outputs": [
    {
     "name": "stdout",
     "output_type": "stream",
     "text": [
      "Noise Model: White Noise\n",
      "Reading coupling matrix from /pscratch/sd/l/lonappan/SOLAT/spectra_512_common/workspaces/coupling_matrix_Nside512_fsky_0p64.fits\n"
     ]
    }
   ],
   "source": [
    "lat = LATsky(libdir,nside,alpha,dust,synch,beta,atm_noise,atm_corr,nhits,bandpass)\n",
    "spec = Spectra(libdir,lat)"
   ]
  },
  {
   "cell_type": "code",
   "execution_count": 5,
   "metadata": {},
   "outputs": [
    {
     "name": "stderr",
     "output_type": "stream",
     "text": [
      "obs x obs spectra: 100%|██████████| 12/12 [01:41<00:00,  8.48s/band]\n",
      "dust x obs spectra: 100%|██████████| 12/12 [02:55<00:00, 14.67s/band]\n",
      "dust x dust spectra: 100%|██████████| 12/12 [00:00<00:00, 201.77band/s]\n",
      "sync x dust spectra: 100%|██████████| 12/12 [00:00<00:00, 210.84band/s]\n",
      "sync x sync spectra: 100%|██████████| 12/12 [00:00<00:00, 233.68band/s]\n",
      "sync x obs spectra: 100%|██████████| 12/12 [02:58<00:00, 14.85s/band]\n"
     ]
    }
   ],
   "source": [
    "spec.compute(0)"
   ]
  },
  {
   "cell_type": "code",
   "execution_count": 6,
   "metadata": {},
   "outputs": [],
   "source": [
    "binwidth = 20\n",
    "bmin = 20\n",
    "bmax = 1000"
   ]
  },
  {
   "cell_type": "code",
   "execution_count": 7,
   "metadata": {},
   "outputs": [],
   "source": [
    "ml = MLE(libdir,spec,binwidth,bmin,bmax)"
   ]
  },
  {
   "cell_type": "code",
   "execution_count": 8,
   "metadata": {},
   "outputs": [],
   "source": [
    "ang,cov,std = ml.calculate(0)"
   ]
  },
  {
   "cell_type": "code",
   "execution_count": 9,
   "metadata": {},
   "outputs": [
    {
     "data": {
      "text/plain": [
       "array([[57.29577951, 57.29577951, 57.29577951,  0.        ,  0.        ,\n",
       "         0.        ,  0.        ,  0.        ,  0.        ,  0.        ,\n",
       "         0.        ,  0.        ,  0.        ,  0.        ,  0.        ,\n",
       "         0.        ],\n",
       "       [56.41715799, 57.43298022, 57.30171869,  0.38551539,  0.06580542,\n",
       "         0.0955408 ,  0.21181186,  0.2090088 ,  0.3156723 ,  0.30853868,\n",
       "         0.07962214,  0.11609018,  0.21455668,  0.21604656,  0.31334045,\n",
       "         0.30962532],\n",
       "       [56.47357402, 57.31077085, 57.21897134,  0.37978734,  0.06601385,\n",
       "         0.09780308,  0.2166969 ,  0.21444633,  0.32260765,  0.31569173,\n",
       "         0.08011481,  0.11832904,  0.21952263,  0.22157967,  0.320331  ,\n",
       "         0.31687661]])"
      ]
     },
     "execution_count": 9,
     "metadata": {},
     "output_type": "execute_result"
    }
   ],
   "source": [
    "np.rad2deg(ang)"
   ]
  },
  {
   "cell_type": "code",
   "execution_count": null,
   "metadata": {},
   "outputs": [],
   "source": []
  },
  {
   "cell_type": "code",
   "execution_count": null,
   "metadata": {},
   "outputs": [],
   "source": []
  }
 ],
 "metadata": {
  "kernelspec": {
   "display_name": "cb",
   "language": "python",
   "name": "python3"
  },
  "language_info": {
   "codemirror_mode": {
    "name": "ipython",
    "version": 3
   },
   "file_extension": ".py",
   "mimetype": "text/x-python",
   "name": "python",
   "nbconvert_exporter": "python",
   "pygments_lexer": "ipython3",
   "version": "3.9.18"
  }
 },
 "nbformat": 4,
 "nbformat_minor": 2
}
