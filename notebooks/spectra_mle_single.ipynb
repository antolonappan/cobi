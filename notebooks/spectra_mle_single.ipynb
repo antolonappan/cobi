{
 "cells": [
  {
   "cell_type": "code",
   "execution_count": 1,
   "metadata": {},
   "outputs": [],
   "source": [
    "\n",
    "import numpy as np\n",
    "import matplotlib.pyplot as plt\n",
    "import sys\n",
    "import os\n",
    "from tqdm import tqdm\n",
    "sys.path.append('..')"
   ]
  },
  {
   "cell_type": "code",
   "execution_count": 5,
   "metadata": {},
   "outputs": [
    {
     "name": "stdout",
     "output_type": "stream",
     "text": [
      "The autoreload extension is already loaded. To reload it, use:\n",
      "  %reload_ext autoreload\n"
     ]
    }
   ],
   "source": [
    "%load_ext autoreload\n",
    "%autoreload 2\n",
    "from lat_cb.signal import *\n",
    "from lat_cb.spectra import *\n",
    "from lat_cb.mle import *"
   ]
  },
  {
   "cell_type": "code",
   "execution_count": 15,
   "metadata": {},
   "outputs": [],
   "source": [
    "libdir ='/pscratch/sd/l/lonappan/SOLAT'\n",
    "nside = 1024\n",
    "alpha = 0.35\n",
    "dust = 1\n",
    "synch = 1\n",
    "beta = [0.1,0.1,0.2,0.2,.3,.3]\n",
    "atm_noise = False\n",
    "atm_corr = False\n",
    "nhits = False\n",
    "bandpass = False"
   ]
  },
  {
   "cell_type": "code",
   "execution_count": 16,
   "metadata": {},
   "outputs": [
    {
     "name": "stdout",
     "output_type": "stream",
     "text": [
      "Noise Model: White Noise\n"
     ]
    }
   ],
   "source": [
    "lat = LATsky(libdir,nside,alpha,dust,synch,beta,atm_noise,atm_corr,nhits,bandpass)\n",
    "spec = Spectra(libdir,lat)"
   ]
  },
  {
   "cell_type": "code",
   "execution_count": 17,
   "metadata": {},
   "outputs": [
    {
     "name": "stderr",
     "output_type": "stream",
     "text": [
      "obs x obs spectra: 100%|██████████| 6/6 [00:00<00:00, 157.21band/s]\n",
      "dust x obs spectra: 100%|██████████| 6/6 [00:00<00:00, 143.18band/s]\n",
      "dust x dust spectra: 100%|██████████| 6/6 [00:00<00:00, 1078.83band/s]\n",
      "sync x dust spectra: 100%|██████████| 6/6 [00:00<00:00, 842.77band/s]\n",
      "sync x sync spectra: 100%|██████████| 6/6 [00:00<00:00, 855.66band/s]\n",
      "sync x obs spectra: 100%|██████████| 6/6 [00:00<00:00, 153.03band/s]\n"
     ]
    }
   ],
   "source": [
    "spec.compute(1)"
   ]
  },
  {
   "cell_type": "code",
   "execution_count": 18,
   "metadata": {},
   "outputs": [],
   "source": [
    "binwidth = 20\n",
    "bmin = 100\n",
    "bmax = 1500"
   ]
  },
  {
   "cell_type": "code",
   "execution_count": 19,
   "metadata": {},
   "outputs": [],
   "source": [
    "ml = MLE(libdir,spec,binwidth,bmin,bmax)"
   ]
  },
  {
   "cell_type": "code",
   "execution_count": 20,
   "metadata": {},
   "outputs": [],
   "source": [
    "ang,cov,std = ml.calculate(1)"
   ]
  },
  {
   "cell_type": "code",
   "execution_count": 21,
   "metadata": {},
   "outputs": [
    {
     "data": {
      "text/plain": [
       "array([[57.29577951, 57.29577951, 57.29577951,  0.        ,  0.        ,\n",
       "         0.        ,  0.        ,  0.        ,  0.        ,  0.        ],\n",
       "       [55.32673865, 56.823312  , 56.09779606,  0.33424788,  0.12471691,\n",
       "         0.17362073,  0.2390595 ,  0.23937278,  0.3483248 ,  0.36337764],\n",
       "       [55.30371188, 56.87580357, 56.08617186,  0.33386825,  0.12465491,\n",
       "         0.17387999,  0.23938874,  0.23971925,  0.34877642,  0.36386709]])"
      ]
     },
     "execution_count": 21,
     "metadata": {},
     "output_type": "execute_result"
    }
   ],
   "source": [
    "np.rad2deg(ang)"
   ]
  },
  {
   "cell_type": "code",
   "execution_count": 61,
   "metadata": {},
   "outputs": [
    {
     "data": {
      "text/plain": [
       "array([110.54113458,  25.67780089,  47.01497242,   0.43469366,\n",
       "         0.69927866,   0.582632  ,   0.45978061,   0.43639423,\n",
       "         0.41570947,   0.4231189 ])"
      ]
     },
     "execution_count": 61,
     "metadata": {},
     "output_type": "execute_result"
    }
   ],
   "source": [
    "np.rad2deg(std[-1])"
   ]
  },
  {
   "cell_type": "code",
   "execution_count": null,
   "metadata": {},
   "outputs": [],
   "source": []
  },
  {
   "cell_type": "code",
   "execution_count": null,
   "metadata": {},
   "outputs": [],
   "source": []
  }
 ],
 "metadata": {
  "kernelspec": {
   "display_name": "cb",
   "language": "python",
   "name": "python3"
  },
  "language_info": {
   "codemirror_mode": {
    "name": "ipython",
    "version": 3
   },
   "file_extension": ".py",
   "mimetype": "text/x-python",
   "name": "python",
   "nbconvert_exporter": "python",
   "pygments_lexer": "ipython3",
   "version": "3.9.18"
  }
 },
 "nbformat": 4,
 "nbformat_minor": 2
}
