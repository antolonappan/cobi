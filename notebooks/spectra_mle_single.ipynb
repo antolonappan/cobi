{
 "cells": [
  {
   "cell_type": "code",
   "execution_count": 1,
   "metadata": {},
   "outputs": [],
   "source": [
    "\n",
    "import numpy as np\n",
    "import matplotlib.pyplot as plt\n",
    "import sys\n",
    "import os\n",
    "from tqdm import tqdm\n",
    "sys.path.append('..')"
   ]
  },
  {
   "cell_type": "code",
   "execution_count": 2,
   "metadata": {},
   "outputs": [],
   "source": [
    "%load_ext autoreload\n",
    "%autoreload 2\n",
    "from lat_cb.signal import *\n",
    "from lat_cb.spectra import *\n",
    "from lat_cb.mle import *"
   ]
  },
  {
   "cell_type": "code",
   "execution_count": 28,
   "metadata": {},
   "outputs": [],
   "source": [
    "libdir ='/pscratch/sd/l/lonappan/SOLAT'\n",
    "nside = 512\n",
    "alpha = 0.35\n",
    "dust = 10\n",
    "synch = 5\n",
    "beta = [0.1,0.1,0.2,0.2,.3,.3,0.1,0.1,0.2,0.2,.3,.3]\n",
    "atm_noise = True\n",
    "nhits = True\n",
    "bandpass = False"
   ]
  },
  {
   "cell_type": "code",
   "execution_count": 29,
   "metadata": {},
   "outputs": [
    {
     "name": "stdout",
     "output_type": "stream",
     "text": [
      "Noise Model: Atmospheric noise\n",
      "HITS map: enabled\n",
      "Reading coupling matrix from /pscratch/sd/l/lonappan/SOLAT/spectra_512_common/workspaces/coupling_matrix_Nside512_fsky_0p64.fits\n"
     ]
    }
   ],
   "source": [
    "lat = LATsky(libdir,nside,alpha,dust,synch,beta,atm_noise,nhits,bandpass)\n",
    "spec = Spectra(libdir,lat)"
   ]
  },
  {
   "cell_type": "code",
   "execution_count": 30,
   "metadata": {},
   "outputs": [
    {
     "name": "stderr",
     "output_type": "stream",
     "text": [
      "Saving Observed QUs: 100%|██████████| 12/12 [00:01<00:00,  6.69band/s]\n",
      "obs x obs spectra: 100%|██████████| 12/12 [02:21<00:00, 11.78s/band]\n",
      "dust x obs spectra: 100%|██████████| 12/12 [04:06<00:00, 20.58s/band]\n",
      "dust x dust spectra: 100%|██████████| 12/12 [00:00<00:00, 474.32band/s]\n",
      "sync x dust spectra: 100%|██████████| 12/12 [00:00<00:00, 365.05band/s]\n",
      "sync x sync spectra: 100%|██████████| 12/12 [00:00<00:00, 526.18band/s]\n",
      "sync x obs spectra: 100%|██████████| 12/12 [04:12<00:00, 21.00s/band]\n"
     ]
    }
   ],
   "source": [
    "spec.compute(0)"
   ]
  },
  {
   "cell_type": "code",
   "execution_count": 40,
   "metadata": {},
   "outputs": [],
   "source": [
    "binwidth = 20\n",
    "bmin = 70\n",
    "bmax = 1500"
   ]
  },
  {
   "cell_type": "code",
   "execution_count": 41,
   "metadata": {},
   "outputs": [],
   "source": [
    "ml = MLE(libdir,spec,binwidth,bmin,bmax,rm_corr=False)"
   ]
  },
  {
   "cell_type": "code",
   "execution_count": 42,
   "metadata": {},
   "outputs": [],
   "source": [
    "ang,cov,std = ml.calculate(0)"
   ]
  },
  {
   "cell_type": "code",
   "execution_count": 43,
   "metadata": {},
   "outputs": [
    {
     "data": {
      "text/plain": [
       "array([31.03366283, 59.99090571,  6.52934239,  0.6340012 , -0.95262953,\n",
       "        2.9536418 ,  0.3457066 ,  0.5506764 , -0.66767315,  0.45747423,\n",
       "       -0.6762194 ,  0.95413853, -0.752258  ,  0.36756174,  0.40203413,\n",
       "       -0.23408612])"
      ]
     },
     "execution_count": 43,
     "metadata": {},
     "output_type": "execute_result"
    }
   ],
   "source": [
    "np.rad2deg(ang[-1])"
   ]
  },
  {
   "cell_type": "code",
   "execution_count": 23,
   "metadata": {},
   "outputs": [
    {
     "data": {
      "text/plain": [
       "array([11.54560716,  0.33998873,  4.07990678,  0.03622175,  0.07338451,\n",
       "        0.04427841,  0.02942542,  0.02853254,  0.02897931,  0.0293312 ,\n",
       "        0.05599849,  0.05100405,  0.02945588,  0.02894324,  0.02918507,\n",
       "        0.029486  ])"
      ]
     },
     "execution_count": 23,
     "metadata": {},
     "output_type": "execute_result"
    }
   ],
   "source": [
    "np.rad2deg(std[-1])"
   ]
  },
  {
   "cell_type": "code",
   "execution_count": null,
   "metadata": {},
   "outputs": [],
   "source": []
  }
 ],
 "metadata": {
  "kernelspec": {
   "display_name": "cb",
   "language": "python",
   "name": "python3"
  },
  "language_info": {
   "codemirror_mode": {
    "name": "ipython",
    "version": 3
   },
   "file_extension": ".py",
   "mimetype": "text/x-python",
   "name": "python",
   "nbconvert_exporter": "python",
   "pygments_lexer": "ipython3",
   "version": "3.9.18"
  }
 },
 "nbformat": 4,
 "nbformat_minor": 2
}
