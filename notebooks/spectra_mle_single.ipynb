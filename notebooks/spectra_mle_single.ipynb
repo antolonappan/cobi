{
 "cells": [
  {
   "cell_type": "code",
   "execution_count": 1,
   "metadata": {},
   "outputs": [],
   "source": [
    "\n",
    "import numpy as np\n",
    "import matplotlib.pyplot as plt\n",
    "import sys\n",
    "import os\n",
    "from tqdm import tqdm\n",
    "sys.path.append('..')"
   ]
  },
  {
   "cell_type": "code",
   "execution_count": 2,
   "metadata": {},
   "outputs": [],
   "source": [
    "%load_ext autoreload\n",
    "%autoreload 2\n",
    "from lat_cb.signal import *\n",
    "from lat_cb.spectra import *\n",
    "from lat_cb.mle import *"
   ]
  },
  {
   "cell_type": "code",
   "execution_count": 3,
   "metadata": {},
   "outputs": [],
   "source": [
    "libdir ='/pscratch/sd/l/lonappan/SOLAT'\n",
    "nside = 512\n",
    "alpha = 0.35\n",
    "dust = 1\n",
    "synch = 1\n",
    "beta = [0.1,0.1,0.2,0.2,.3,.3,0.1,0.1,0.2,0.2,.3,.3]\n",
    "atm_noise = True\n",
    "nhits = False\n",
    "bandpass = False"
   ]
  },
  {
   "cell_type": "code",
   "execution_count": 7,
   "metadata": {},
   "outputs": [
    {
     "name": "stdout",
     "output_type": "stream",
     "text": [
      "Noise Model: Atmospheric noise\n",
      "Reading coupling matrix from /pscratch/sd/l/lonappan/SOLAT/spectra_512_common/workspaces/coupling_matrix_Nside512_fsky_0p64.fits\n"
     ]
    }
   ],
   "source": [
    "lat = LATsky(libdir,nside,alpha,dust,synch,beta,atm_noise,nhits,bandpass)\n",
    "spec = Spectra(libdir,lat)"
   ]
  },
  {
   "cell_type": "code",
   "execution_count": 8,
   "metadata": {},
   "outputs": [
    {
     "name": "stderr",
     "output_type": "stream",
     "text": [
      "Saving Observed QUs: 100%|██████████| 12/12 [00:01<00:00,  6.80band/s]\n",
      "obs x obs spectra: 100%|██████████| 12/12 [01:52<00:00,  9.35s/band]\n",
      "dust x obs spectra: 100%|██████████| 12/12 [03:15<00:00, 16.29s/band]\n",
      "dust x dust spectra: 100%|██████████| 12/12 [00:00<00:00, 198.12band/s]\n",
      "sync x dust spectra: 100%|██████████| 12/12 [00:00<00:00, 172.87band/s]\n",
      "sync x sync spectra: 100%|██████████| 12/12 [00:00<00:00, 226.88band/s]\n",
      "sync x obs spectra: 100%|██████████| 12/12 [03:23<00:00, 16.97s/band]\n"
     ]
    }
   ],
   "source": [
    "spec.compute(0)"
   ]
  },
  {
   "cell_type": "code",
   "execution_count": 22,
   "metadata": {},
   "outputs": [],
   "source": [
    "binwidth = 20\n",
    "bmin = 100\n",
    "bmax = 1000"
   ]
  },
  {
   "cell_type": "code",
   "execution_count": 41,
   "metadata": {},
   "outputs": [],
   "source": [
    "ml = MLE(libdir,spec,binwidth,bmin,bmax,corr=True)"
   ]
  },
  {
   "cell_type": "code",
   "execution_count": 42,
   "metadata": {},
   "outputs": [],
   "source": [
    "ang,cov,std = ml.calculate(1)"
   ]
  },
  {
   "cell_type": "code",
   "execution_count": 43,
   "metadata": {},
   "outputs": [
    {
     "data": {
      "text/plain": [
       "array([5.34515494e+01, 5.99964540e+01, 5.98760295e+01, 4.02945719e-01,\n",
       "       4.14501163e-02, 1.26143945e-01, 1.99581228e-01, 2.05338937e-01,\n",
       "       2.63381064e-01, 2.58054416e-01, 2.33777948e-02, 4.90963568e-02,\n",
       "       2.08294446e-01, 2.13231139e-01, 2.51056248e-01, 2.61391183e-01])"
      ]
     },
     "execution_count": 43,
     "metadata": {},
     "output_type": "execute_result"
    }
   ],
   "source": [
    "np.rad2deg(ang[-1])"
   ]
  },
  {
   "cell_type": "code",
   "execution_count": 26,
   "metadata": {},
   "outputs": [
    {
     "data": {
      "text/plain": [
       "array([11.33820949,  3.65767435,  7.30538455,  0.06983309,  0.08967789,\n",
       "        0.0837024 ,  0.05941126,  0.0586892 ,  0.061495  ,  0.06422357,\n",
       "        0.0897298 ,  0.08378421,  0.0594081 ,  0.05867313,  0.06146489,\n",
       "        0.06420811])"
      ]
     },
     "execution_count": 26,
     "metadata": {},
     "output_type": "execute_result"
    }
   ],
   "source": [
    "np.rad2deg(std[-1])"
   ]
  },
  {
   "cell_type": "code",
   "execution_count": null,
   "metadata": {},
   "outputs": [],
   "source": []
  }
 ],
 "metadata": {
  "kernelspec": {
   "display_name": "cb",
   "language": "python",
   "name": "python3"
  },
  "language_info": {
   "codemirror_mode": {
    "name": "ipython",
    "version": 3
   },
   "file_extension": ".py",
   "mimetype": "text/x-python",
   "name": "python",
   "nbconvert_exporter": "python",
   "pygments_lexer": "ipython3",
   "version": "3.9.18"
  }
 },
 "nbformat": 4,
 "nbformat_minor": 2
}
