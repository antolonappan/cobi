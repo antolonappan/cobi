{
 "cells": [
  {
   "cell_type": "code",
   "execution_count": 1,
   "metadata": {},
   "outputs": [],
   "source": [
    "\n",
    "import numpy as np\n",
    "import matplotlib.pyplot as plt\n",
    "import sys\n",
    "import os\n",
    "from tqdm import tqdm\n",
    "sys.path.append('..')"
   ]
  },
  {
   "cell_type": "code",
   "execution_count": 2,
   "metadata": {},
   "outputs": [],
   "source": [
    "%load_ext autoreload\n",
    "%autoreload 2\n",
    "from lat_cb.signal import *\n",
    "from lat_cb.spectra import *\n",
    "from lat_cb.mle import *"
   ]
  },
  {
   "cell_type": "code",
   "execution_count": 3,
   "metadata": {},
   "outputs": [],
   "source": [
    "libdir ='/pscratch/sd/l/lonappan/SOLAT'\n",
    "nside = 512\n",
    "alpha = 0.35\n",
    "dust = 1\n",
    "synch = 1\n",
    "beta = [0.1,0.1,0.2,0.2,.3,.3]\n",
    "atm_noise = False\n",
    "atm_corr = False\n",
    "nhits = False\n",
    "bandpass = False"
   ]
  },
  {
   "cell_type": "code",
   "execution_count": 6,
   "metadata": {},
   "outputs": [
    {
     "name": "stdout",
     "output_type": "stream",
     "text": [
      "Noise Model: White Noise\n",
      "Computing coupling Matrix\n",
      "Coupling Matrix saved to /pscratch/sd/l/lonappan/SOLAT/spectra_512_common/workspaces/coupling_matrix_Nside512_fsky_0p64.fits\n"
     ]
    }
   ],
   "source": [
    "lat = LATsky(libdir,nside,alpha,dust,synch,beta,atm_noise,atm_corr,nhits,bandpass)\n",
    "spec = Spectra(libdir,lat)"
   ]
  },
  {
   "cell_type": "code",
   "execution_count": 7,
   "metadata": {},
   "outputs": [
    {
     "name": "stderr",
     "output_type": "stream",
     "text": [
      "obs x obs spectra: 100%|██████████| 6/6 [00:31<00:00,  5.28s/band]\n",
      "dust x obs spectra: 100%|██████████| 6/6 [00:45<00:00,  7.67s/band]\n",
      "dust x dust spectra: 100%|██████████| 6/6 [00:28<00:00,  4.68s/band]\n",
      "sync x dust spectra: 100%|██████████| 6/6 [00:49<00:00,  8.21s/band]\n",
      "sync x sync spectra: 100%|██████████| 6/6 [00:30<00:00,  5.16s/band]\n",
      "sync x obs spectra: 100%|██████████| 6/6 [00:50<00:00,  8.34s/band]\n"
     ]
    }
   ],
   "source": [
    "spec.compute(0)"
   ]
  },
  {
   "cell_type": "code",
   "execution_count": 8,
   "metadata": {},
   "outputs": [],
   "source": [
    "binwidth = 20\n",
    "bmin = 20\n",
    "bmax = 1000"
   ]
  },
  {
   "cell_type": "code",
   "execution_count": 11,
   "metadata": {},
   "outputs": [],
   "source": [
    "ml = MLE(libdir,spec,binwidth,bmin,bmax)"
   ]
  },
  {
   "cell_type": "code",
   "execution_count": 12,
   "metadata": {},
   "outputs": [],
   "source": [
    "ang,cov,std = ml.calculate(0)"
   ]
  },
  {
   "cell_type": "code",
   "execution_count": 13,
   "metadata": {},
   "outputs": [
    {
     "data": {
      "text/plain": [
       "array([[57.29577951, 57.29577951, 57.29577951,  0.        ,  0.        ,\n",
       "         0.        ,  0.        ,  0.        ,  0.        ,  0.        ],\n",
       "       [58.07827243, 57.90366883, 57.64775597,  0.38006927,  0.10980003,\n",
       "         0.11392091,  0.21848339,  0.21645452,  0.32238998,  0.3238784 ],\n",
       "       [58.09384257, 57.83717173, 57.52927093,  0.37799311,  0.11005864,\n",
       "         0.11473577,  0.22019127,  0.21831812,  0.32491684,  0.32652233]])"
      ]
     },
     "execution_count": 13,
     "metadata": {},
     "output_type": "execute_result"
    }
   ],
   "source": [
    "np.rad2deg(ang)"
   ]
  },
  {
   "cell_type": "code",
   "execution_count": 25,
   "metadata": {},
   "outputs": [
    {
     "data": {
      "text/plain": [
       "array([0.73788953, 0.46999038, 0.73765821, 0.01579258, 0.01906622,\n",
       "       0.01859712, 0.01476338, 0.01408406, 0.01546044, 0.01584535])"
      ]
     },
     "execution_count": 25,
     "metadata": {},
     "output_type": "execute_result"
    }
   ],
   "source": [
    "np.rad2deg(std[-1])"
   ]
  },
  {
   "cell_type": "code",
   "execution_count": null,
   "metadata": {},
   "outputs": [],
   "source": []
  },
  {
   "cell_type": "code",
   "execution_count": null,
   "metadata": {},
   "outputs": [],
   "source": []
  }
 ],
 "metadata": {
  "kernelspec": {
   "display_name": "cb",
   "language": "python",
   "name": "python3"
  },
  "language_info": {
   "codemirror_mode": {
    "name": "ipython",
    "version": 3
   },
   "file_extension": ".py",
   "mimetype": "text/x-python",
   "name": "python",
   "nbconvert_exporter": "python",
   "pygments_lexer": "ipython3",
   "version": "3.9.18"
  }
 },
 "nbformat": 4,
 "nbformat_minor": 2
}
