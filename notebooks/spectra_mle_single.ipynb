{
 "cells": [
  {
   "cell_type": "code",
   "execution_count": 1,
   "metadata": {},
   "outputs": [],
   "source": [
    "\n",
    "import numpy as np\n",
    "import matplotlib.pyplot as plt\n",
    "import sys\n",
    "import os\n",
    "from tqdm import tqdm\n",
    "sys.path.append('..')"
   ]
  },
  {
   "cell_type": "code",
   "execution_count": 2,
   "metadata": {},
   "outputs": [],
   "source": [
    "%load_ext autoreload\n",
    "%autoreload 2\n",
    "from lat_cb.signal import *\n",
    "from lat_cb.spectra import *\n",
    "from lat_cb.mle import *"
   ]
  },
  {
   "cell_type": "code",
   "execution_count": 3,
   "metadata": {},
   "outputs": [],
   "source": [
    "libdir ='/pscratch/sd/l/lonappan/SOLAT'\n",
    "nside = 1024\n",
    "alpha = 0.35\n",
    "dust = 10\n",
    "synch = 5\n",
    "beta = [0.1,0.1,0.2,0.2,.3,.3,0.1,0.1,0.2,0.2,.3,.3]\n",
    "atm_noise = True\n",
    "nhits = False\n",
    "bandpass = False"
   ]
  },
  {
   "cell_type": "code",
   "execution_count": 4,
   "metadata": {},
   "outputs": [
    {
     "name": "stdout",
     "output_type": "stream",
     "text": [
      "Noise Model: Atmospheric noise\n",
      "Reading coupling matrix from /pscratch/sd/l/lonappan/SOLAT/spectra_1024_common/workspaces/coupling_matrix_Nside1024_fsky_0p64.fits\n"
     ]
    }
   ],
   "source": [
    "lat = LATsky(libdir,nside,alpha,dust,synch,beta,atm_noise,nhits,bandpass)\n",
    "spec = Spectra(libdir,lat)"
   ]
  },
  {
   "cell_type": "code",
   "execution_count": 5,
   "metadata": {},
   "outputs": [
    {
     "name": "stderr",
     "output_type": "stream",
     "text": [
      "obs x obs spectra: 100%|██████████| 12/12 [00:00<00:00, 67.34band/s]\n",
      "dust x obs spectra: 100%|██████████| 12/12 [00:00<00:00, 54.47band/s]\n",
      "dust x dust spectra: 100%|██████████| 12/12 [00:00<00:00, 70.97band/s]\n",
      "sync x dust spectra: 100%|██████████| 12/12 [00:00<00:00, 51.83band/s]\n",
      "sync x sync spectra: 100%|██████████| 12/12 [00:00<00:00, 67.08band/s]\n",
      "sync x obs spectra: 100%|██████████| 12/12 [00:00<00:00, 53.98band/s]\n"
     ]
    }
   ],
   "source": [
    "spec.compute(0)"
   ]
  },
  {
   "cell_type": "code",
   "execution_count": 11,
   "metadata": {},
   "outputs": [],
   "source": [
    "binwidth = 20\n",
    "bmin = 50\n",
    "bmax = 1500"
   ]
  },
  {
   "cell_type": "code",
   "execution_count": 12,
   "metadata": {},
   "outputs": [],
   "source": [
    "ml = MLE(libdir,spec,binwidth,bmin,bmax,rm_corr=True)"
   ]
  },
  {
   "cell_type": "code",
   "execution_count": 13,
   "metadata": {},
   "outputs": [],
   "source": [
    "ang,cov,std = ml.calculate(0)"
   ]
  },
  {
   "cell_type": "code",
   "execution_count": 14,
   "metadata": {},
   "outputs": [
    {
     "data": {
      "text/plain": [
       "array([6.82750836e+01, 5.76328788e+01, 5.64750574e+01, 3.82624387e-01,\n",
       "       1.16165069e-01, 3.37708620e-02, 1.76739987e-01, 1.71658073e-01,\n",
       "       2.68604515e-01, 2.53918951e-01, 2.22295329e-01, 1.50166576e-01,\n",
       "       1.78245195e-01, 1.85728736e-01, 2.75232395e-01, 2.79913462e-01])"
      ]
     },
     "execution_count": 14,
     "metadata": {},
     "output_type": "execute_result"
    }
   ],
   "source": [
    "np.rad2deg(ang[-1])"
   ]
  },
  {
   "cell_type": "code",
   "execution_count": 15,
   "metadata": {},
   "outputs": [
    {
     "data": {
      "text/plain": [
       "array([7.7764662 , 0.7315712 , 2.85403339, 0.06413612, 0.12451445,\n",
       "       0.08039608, 0.05984921, 0.05803796, 0.05774773, 0.0581151 ,\n",
       "       0.12554885, 0.08058671, 0.05986669, 0.05802537, 0.05774727,\n",
       "       0.05809303])"
      ]
     },
     "execution_count": 15,
     "metadata": {},
     "output_type": "execute_result"
    }
   ],
   "source": [
    "np.rad2deg(std[-1])"
   ]
  },
  {
   "cell_type": "code",
   "execution_count": null,
   "metadata": {},
   "outputs": [],
   "source": []
  }
 ],
 "metadata": {
  "kernelspec": {
   "display_name": "cb",
   "language": "python",
   "name": "python3"
  },
  "language_info": {
   "codemirror_mode": {
    "name": "ipython",
    "version": 3
   },
   "file_extension": ".py",
   "mimetype": "text/x-python",
   "name": "python",
   "nbconvert_exporter": "python",
   "pygments_lexer": "ipython3",
   "version": "3.9.18"
  }
 },
 "nbformat": 4,
 "nbformat_minor": 2
}
