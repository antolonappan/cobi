{
 "cells": [
  {
   "cell_type": "code",
   "execution_count": 1,
   "metadata": {},
   "outputs": [],
   "source": [
    "\n",
    "import numpy as np\n",
    "import matplotlib.pyplot as plt\n",
    "import sys\n",
    "import os\n",
    "from tqdm import tqdm\n",
    "sys.path.append('..')"
   ]
  },
  {
   "cell_type": "code",
   "execution_count": 2,
   "metadata": {},
   "outputs": [],
   "source": [
    "%load_ext autoreload\n",
    "%autoreload 2\n",
    "from solat_cb.simulation import *\n",
    "from solat_cb.spectra import *\n",
    "from solat_cb.mle import *"
   ]
  },
  {
   "cell_type": "code",
   "execution_count": 3,
   "metadata": {},
   "outputs": [],
   "source": [
    "libdir ='/pscratch/sd/l/lonappan/SOLAT'\n",
    "nside = 512\n",
    "cb_method = 'iso'\n",
    "beta = 0.35\n",
    "dust = 10\n",
    "synch = 5\n",
    "alpha = [0.1,0.1,0.2,0.2,.3,.3]\n",
    "atm_noise = False\n",
    "nsplits = 2\n",
    "bandpass = False"
   ]
  },
  {
   "cell_type": "code",
   "execution_count": 4,
   "metadata": {},
   "outputs": [
    {
     "name": "stderr",
     "output_type": "stream",
     "text": [
      "CMB : INFO - Loading CMB power spectra from file\n",
      "Mask : INFO - Downgrading mask LAT resolution\n",
      "Noise : INFO - Noise Model: White noise v3.0.0\n",
      "Mask : INFO - Loading composite mask\n",
      "Mask : INFO - Downgrading mask LAT resolution\n",
      "Mask : INFO - Downgrading mask CO resolution\n",
      "Mask : INFO - Downgrading mask PS resolution\n",
      "Mask : INFO - Composite Mask LATxCOxPS: fsky changed 0.93 -> 0.59  \n",
      "Mask : INFO - Apodizing mask: scale 2.0: method: C2\n",
      "Mask : INFO - Apodizing changed the fsky 0.592 -> 0.546\n",
      "Spectra : INFO - Apodised mask saved to /pscratch/sd/l/lonappan/SOLAT/LAT_white_noise_2splits/spectra_512_aposcale2p0_common/workspaces/mask_N512_aposcale2p0_CO_PS.fits\n",
      "Spectra : INFO - Computing coupling Matrix\n",
      "Spectra : INFO - Coupling Matrix saved to /pscratch/sd/l/lonappan/SOLAT/LAT_white_noise_2splits/spectra_512_aposcale2p0_common/workspaces/coupling_matrix_N512_fsky0p55_aposcale2p0_CO_PS.fits\n"
     ]
    }
   ],
   "source": [
    "lat = LATsky(libdir,nside,cb_method,dust,synch,alpha,beta,atm_noise=atm_noise,nsplits=nsplits,bandpass=bandpass)\n",
    "spec = Spectra(lat)"
   ]
  },
  {
   "cell_type": "code",
   "execution_count": 5,
   "metadata": {},
   "outputs": [
    {
     "name": "stderr",
     "output_type": "stream",
     "text": [
      "dust x dust spectra: 100%|██████████| 6/6 [00:29<00:00,  4.87s/band]\n",
      "Saving Observed QUs: 100%|██████████| 12/12 [00:02<00:00,  5.62band/s]\n",
      "obs x obs spectra: 100%|██████████| 12/12 [01:38<00:00,  8.17s/band]\n",
      "dust x obs spectra: 100%|██████████| 6/6 [01:26<00:00, 14.43s/band]\n",
      "sync x dust spectra: 100%|██████████| 6/6 [00:45<00:00,  7.59s/band]\n",
      "sync x sync spectra: 100%|██████████| 6/6 [00:29<00:00,  4.96s/band]\n",
      "sync x obs spectra: 100%|██████████| 6/6 [01:26<00:00, 14.35s/band]\n"
     ]
    }
   ],
   "source": [
    "spec.compute(0,True)"
   ]
  },
  {
   "cell_type": "code",
   "execution_count": 6,
   "metadata": {},
   "outputs": [],
   "source": [
    "fit = \"As + Asd + Ad + beta + alpha\"\n",
    "binwidth = 20\n",
    "bmin = 50\n",
    "bmax = 1500"
   ]
  },
  {
   "cell_type": "code",
   "execution_count": 7,
   "metadata": {},
   "outputs": [
    {
     "name": "stderr",
     "output_type": "stream",
     "text": [
      "CMB : INFO - Loading CMB power spectra from file\n"
     ]
    },
    {
     "name": "stdout",
     "output_type": "stream",
     "text": [
      "Fitting a common polarisation angle per frequency\n"
     ]
    }
   ],
   "source": [
    "ml = MLE(libdir,spec,fit, alpha_per_split=False,rm_same_tube=False)"
   ]
  },
  {
   "cell_type": "code",
   "execution_count": 8,
   "metadata": {},
   "outputs": [
    {
     "data": {
      "text/plain": [
       "{'As': -0.10720745367267503,\n",
       " 'Asd': -0.1472985712827369,\n",
       " 'Ad': 0.40841809035974685,\n",
       " 'beta': 0.3553906722972654,\n",
       " '27': 0.11994822003795064,\n",
       " '39': 0.08955635939439899,\n",
       " '93': 0.18956098976174976,\n",
       " '145': 0.1966371044969505,\n",
       " '225': 0.286792462467624,\n",
       " '280': 0.2704338955135538}"
      ]
     },
     "execution_count": 8,
     "metadata": {},
     "output_type": "execute_result"
    }
   ],
   "source": [
    "ml.estimate_angles(0)"
   ]
  },
  {
   "cell_type": "code",
   "execution_count": null,
   "metadata": {},
   "outputs": [],
   "source": []
  }
 ],
 "metadata": {
  "kernelspec": {
   "display_name": "Python 3",
   "language": "python",
   "name": "python3"
  },
  "language_info": {
   "codemirror_mode": {
    "name": "ipython",
    "version": 3
   },
   "file_extension": ".py",
   "mimetype": "text/x-python",
   "name": "python",
   "nbconvert_exporter": "python",
   "pygments_lexer": "ipython3",
   "version": "3.10.15"
  }
 },
 "nbformat": 4,
 "nbformat_minor": 2
}
