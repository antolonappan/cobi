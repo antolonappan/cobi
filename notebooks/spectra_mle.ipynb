{
 "cells": [
  {
   "cell_type": "code",
   "execution_count": 1,
   "metadata": {},
   "outputs": [],
   "source": [
    "\n",
    "import numpy as np\n",
    "import matplotlib.pyplot as plt\n",
    "import sys\n",
    "import os\n",
    "from tqdm import tqdm\n",
    "sys.path.append('..')"
   ]
  },
  {
   "cell_type": "code",
   "execution_count": 2,
   "metadata": {},
   "outputs": [],
   "source": [
    "%load_ext autoreload\n",
    "%autoreload 2\n",
    "from solat_cb.simulation import *\n",
    "from solat_cb.spectra import *\n",
    "from solat_cb.mle import *"
   ]
  },
  {
   "cell_type": "code",
   "execution_count": 3,
   "metadata": {},
   "outputs": [],
   "source": [
    "libdir ='/pscratch/sd/l/lonappan/SOLAT'\n",
    "nside = 512\n",
    "cb_method = 'iso'\n",
    "beta = 0.35\n",
    "dust = 10\n",
    "synch = 5\n",
    "alpha = [0.1,0.1,0.2,0.2,.3,.3]\n",
    "atm_noise = False\n",
    "nsplits = 2\n",
    "bandpass = False"
   ]
  },
  {
   "cell_type": "code",
   "execution_count": 4,
   "metadata": {},
   "outputs": [
    {
     "name": "stderr",
     "output_type": "stream",
     "text": [
      "CMB : INFO - Loading CMB power spectra from file\n",
      "Mask : INFO - Downgrading mask LAT resolution\n",
      "Noise : INFO - Noise Model: White noise v3.0.0\n",
      "Mask : INFO - Loading composite mask\n",
      "Mask : INFO - Downgrading mask LAT resolution\n",
      "Mask : INFO - Downgrading mask CO resolution\n",
      "Mask : INFO - Downgrading mask PS resolution\n",
      "Mask : INFO - Composite Mask LATxCOxPS: fsky changed 0.93 -> 0.59  \n",
      "Mask : INFO - Apodizing mask: scale 2.0: method: C2\n",
      "Mask : INFO - Apodizing changed the fsky 0.592 -> 0.546\n",
      "Spectra : INFO - Apodised mask saved to /pscratch/sd/l/lonappan/SOLAT/LAT_white_noise_2splits/spectra_512_aposcale2p0_common/workspaces/mask_N512_aposcale2p0_CO_PS.fits\n",
      "Spectra : INFO - Computing coupling Matrix\n",
      "Spectra : INFO - Coupling Matrix saved to /pscratch/sd/l/lonappan/SOLAT/LAT_white_noise_2splits/spectra_512_aposcale2p0_common/workspaces/coupling_matrix_N512_fsky0p55_aposcale2p0_CO_PS.fits\n"
     ]
    }
   ],
   "source": [
    "lat = LATsky(libdir,nside,cb_method,dust,synch,alpha,beta,atm_noise=atm_noise,nsplits=nsplits,bandpass=bandpass)\n",
    "spec = Spectra(lat)"
   ]
  },
  {
   "cell_type": "code",
   "execution_count": 5,
   "metadata": {},
   "outputs": [
    {
     "name": "stderr",
     "output_type": "stream",
     "text": [
      "dust x dust spectra: 100%|██████████| 6/6 [00:33<00:00,  5.58s/band]\n",
      "Saving Observed QUs: 100%|██████████| 12/12 [00:02<00:00,  4.42band/s]\n",
      "obs x obs spectra: 100%|██████████| 12/12 [01:46<00:00,  8.91s/band]\n",
      "dust x obs spectra: 100%|██████████| 6/6 [01:35<00:00, 15.99s/band]\n",
      "sync x dust spectra: 100%|██████████| 6/6 [00:52<00:00,  8.79s/band]\n",
      "sync x sync spectra: 100%|██████████| 6/6 [00:32<00:00,  5.40s/band]\n",
      "sync x obs spectra: 100%|██████████| 6/6 [01:39<00:00, 16.54s/band]\n"
     ]
    }
   ],
   "source": [
    "spec.compute(0,True)"
   ]
  },
  {
   "cell_type": "code",
   "execution_count": 6,
   "metadata": {},
   "outputs": [],
   "source": [
    "fit = \"As + Asd + Ad + beta + alpha\"\n",
    "binwidth = 20\n",
    "bmin = 50\n",
    "bmax = 1500"
   ]
  },
  {
   "cell_type": "code",
   "execution_count": 7,
   "metadata": {},
   "outputs": [
    {
     "name": "stderr",
     "output_type": "stream",
     "text": [
      "CMB : INFO - Loading CMB power spectra from file\n"
     ]
    },
    {
     "name": "stdout",
     "output_type": "stream",
     "text": [
      "Fitting a common polarisation angle per frequency\n"
     ]
    }
   ],
   "source": [
    "ml = MLE(libdir,spec,fit, alpha_per_split=False,rm_same_tube=False)"
   ]
  },
  {
   "cell_type": "code",
   "execution_count": 8,
   "metadata": {},
   "outputs": [
    {
     "data": {
      "text/plain": [
       "{'As': 0.7774970862884588,\n",
       " 'Asd': 0.06576596127707894,\n",
       " 'Ad': 0.40612056789852996,\n",
       " 'beta': 0.22564158052564126,\n",
       " '27': 0.25858225656520445,\n",
       " '39': 0.22240003113855306,\n",
       " '93': 0.3232556117601475,\n",
       " '145': 0.31838733706438865,\n",
       " '225': 0.41887933273429545,\n",
       " '280': 0.4052242377724319}"
      ]
     },
     "execution_count": 8,
     "metadata": {},
     "output_type": "execute_result"
    }
   ],
   "source": [
    "ml.estimate_angles(0)"
   ]
  },
  {
   "cell_type": "code",
   "execution_count": null,
   "metadata": {},
   "outputs": [],
   "source": []
  }
 ],
 "metadata": {
  "kernelspec": {
   "display_name": "Python 3",
   "language": "python",
   "name": "python3"
  },
  "language_info": {
   "codemirror_mode": {
    "name": "ipython",
    "version": 3
   },
   "file_extension": ".py",
   "mimetype": "text/x-python",
   "name": "python",
   "nbconvert_exporter": "python",
   "pygments_lexer": "ipython3",
   "version": "3.10.15"
  }
 },
 "nbformat": 4,
 "nbformat_minor": 2
}
