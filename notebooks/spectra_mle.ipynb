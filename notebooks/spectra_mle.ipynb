{
 "cells": [
  {
   "cell_type": "code",
   "execution_count": 1,
   "metadata": {},
   "outputs": [],
   "source": [
    "import matplotlib.pyplot as plt\n",
    "import healpy as hp\n",
    "import numpy as np\n",
    "import sys\n",
    "import os\n",
    "sys.path.append('..')"
   ]
  },
  {
   "cell_type": "code",
   "execution_count": 2,
   "metadata": {},
   "outputs": [],
   "source": [
    "%load_ext autoreload\n",
    "%autoreload 2\n",
    "from lat_cb.signal import *\n",
    "from lat_cb.spectra import *\n",
    "from lat_cb.mle import *"
   ]
  },
  {
   "cell_type": "code",
   "execution_count": 3,
   "metadata": {},
   "outputs": [],
   "source": [
    "libdir = '/Users/antoidicherianlonappan/Workspace/scratch'\n",
    "nside = 512\n",
    "alpha = 0.35\n",
    "dust = 1\n",
    "synch = 1\n",
    "beta = [0.1,0.1,0.8,0.8,1.2,1.2]\n",
    "lmax = 1000\n",
    "lat = Spectra(libdir,nside,alpha,dust,synch,beta,lmax)"
   ]
  },
  {
   "cell_type": "code",
   "execution_count": 4,
   "metadata": {},
   "outputs": [
    {
     "name": "stderr",
     "output_type": "stream",
     "text": [
      "obs x obs spectra: 100%|██████████| 6/6 [00:00<00:00, 1088.35band/s]\n",
      "dust x obs spectra: 100%|██████████| 6/6 [00:00<00:00, 1191.90band/s]\n",
      "dust x dust spectra: 100%|██████████| 6/6 [00:00<00:00, 1373.98band/s]\n",
      "sync x dust spectra: 100%|██████████| 6/6 [00:00<00:00, 1073.12band/s]\n",
      "sync x sync spectra: 100%|██████████| 6/6 [00:00<00:00, 1397.71band/s]\n",
      "sync x obs spectra: 100%|██████████| 6/6 [00:00<00:00, 1405.21band/s]\n"
     ]
    }
   ],
   "source": [
    "lat.compute(0)"
   ]
  },
  {
   "cell_type": "code",
   "execution_count": 5,
   "metadata": {},
   "outputs": [],
   "source": [
    "ml = MLE(libdir,nside,alpha,dust,synch,beta,lmax)"
   ]
  },
  {
   "cell_type": "code",
   "execution_count": 8,
   "metadata": {},
   "outputs": [
    {
     "data": {
      "text/plain": [
       "{'alpha_27': 0.16665531215282284,\n",
       " 'alpha_39': 0.1442174201428122,\n",
       " 'alpha_93': 0.8411039776305793,\n",
       " 'alpha_145': 0.863463844171913,\n",
       " 'alpha_225': 1.2724231800475165,\n",
       " 'alpha_280': 1.2738358112453119,\n",
       " 'beta': 0.3534345909987296}"
      ]
     },
     "execution_count": 8,
     "metadata": {},
     "output_type": "execute_result"
    }
   ],
   "source": [
    "ml.estimate_angle(0)"
   ]
  },
  {
   "cell_type": "code",
   "execution_count": null,
   "metadata": {},
   "outputs": [],
   "source": []
  }
 ],
 "metadata": {
  "kernelspec": {
   "display_name": "cb",
   "language": "python",
   "name": "python3"
  },
  "language_info": {
   "codemirror_mode": {
    "name": "ipython",
    "version": 3
   },
   "file_extension": ".py",
   "mimetype": "text/x-python",
   "name": "python",
   "nbconvert_exporter": "python",
   "pygments_lexer": "ipython3",
   "version": "3.9.18"
  }
 },
 "nbformat": 4,
 "nbformat_minor": 2
}
