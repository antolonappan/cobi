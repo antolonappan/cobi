{
 "cells": [
  {
   "cell_type": "code",
   "execution_count": 1,
   "metadata": {},
   "outputs": [],
   "source": [
    "import matplotlib.pyplot as plt\n",
    "import healpy as hp\n",
    "import numpy as np\n",
    "import sys\n",
    "import os\n",
    "sys.path.append('..')"
   ]
  },
  {
   "cell_type": "code",
   "execution_count": 2,
   "metadata": {},
   "outputs": [],
   "source": [
    "%load_ext autoreload\n",
    "%autoreload 2\n",
    "from lat_cb.signal import *\n",
    "from lat_cb.spectra import *\n",
    "from lat_cb.mle import *"
   ]
  },
  {
   "cell_type": "code",
   "execution_count": 4,
   "metadata": {},
   "outputs": [],
   "source": [
    "libdir ='/mnt/home/alonappan/storage/SOLAT'\n",
    "nside = 512\n",
    "alpha = 0.35\n",
    "dust = 1\n",
    "synch = 1\n",
    "beta = [0.1,0.1,0.8,0.8,.2,.2]\n",
    "lmax = 1000\n",
    "lat = Spectra(libdir,nside,alpha,dust,synch,beta,lmax)"
   ]
  },
  {
   "cell_type": "code",
   "execution_count": 5,
   "metadata": {},
   "outputs": [
    {
     "name": "stderr",
     "output_type": "stream",
     "text": [
      "obs x obs spectra: 100%|██████████| 6/6 [00:29<00:00,  4.89s/band]\n",
      "dust x obs spectra: 100%|██████████| 6/6 [00:46<00:00,  7.78s/band]\n",
      "dust x dust spectra: 100%|██████████| 6/6 [00:29<00:00,  4.93s/band]\n",
      "sync x dust spectra: 100%|██████████| 6/6 [01:06<00:00, 11.07s/band]\n",
      "sync x sync spectra: 100%|██████████| 6/6 [00:40<00:00,  6.68s/band]\n",
      "sync x obs spectra: 100%|██████████| 6/6 [00:48<00:00,  8.02s/band]\n"
     ]
    }
   ],
   "source": [
    "lat.compute(0)"
   ]
  },
  {
   "cell_type": "code",
   "execution_count": 6,
   "metadata": {},
   "outputs": [],
   "source": [
    "ml = MLE(libdir,nside,alpha,dust,synch,beta,lmax)"
   ]
  },
  {
   "cell_type": "code",
   "execution_count": 7,
   "metadata": {},
   "outputs": [
    {
     "data": {
      "text/plain": [
       "{'alpha_27': 0.12474576507708364,\n",
       " 'alpha_39': 0.09662653810955084,\n",
       " 'alpha_93': 0.7911929342760454,\n",
       " 'alpha_145': 0.7943609968777252,\n",
       " 'alpha_225': 0.19753972518908744,\n",
       " 'alpha_280': 0.18819598698367182,\n",
       " 'beta': 0.3976708085174239}"
      ]
     },
     "execution_count": 7,
     "metadata": {},
     "output_type": "execute_result"
    }
   ],
   "source": [
    "ml.estimate_angle(0)"
   ]
  },
  {
   "cell_type": "code",
   "execution_count": null,
   "metadata": {},
   "outputs": [],
   "source": [
    "pi"
   ]
  }
 ],
 "metadata": {
  "kernelspec": {
   "display_name": "cb",
   "language": "python",
   "name": "python3"
  },
  "language_info": {
   "codemirror_mode": {
    "name": "ipython",
    "version": 3
   },
   "file_extension": ".py",
   "mimetype": "text/x-python",
   "name": "python",
   "nbconvert_exporter": "python",
   "pygments_lexer": "ipython3",
   "version": "3.9.18"
  }
 },
 "nbformat": 4,
 "nbformat_minor": 2
}
