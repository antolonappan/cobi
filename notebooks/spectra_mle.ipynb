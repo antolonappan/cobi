{
 "cells": [
  {
   "cell_type": "code",
   "execution_count": 1,
   "metadata": {},
   "outputs": [],
   "source": [
    "\n",
    "import numpy as np\n",
    "import matplotlib.pyplot as plt\n",
    "import sys\n",
    "import os\n",
    "from tqdm import tqdm\n",
    "sys.path.append('..')"
   ]
  },
  {
   "cell_type": "code",
   "execution_count": 2,
   "metadata": {},
   "outputs": [],
   "source": [
    "%load_ext autoreload\n",
    "%autoreload 2\n",
    "from solat_cb.simulation import *\n",
    "from solat_cb.spectra import *\n",
    "from solat_cb.mle import *"
   ]
  },
  {
   "cell_type": "code",
   "execution_count": 3,
   "metadata": {},
   "outputs": [],
   "source": [
    "libdir ='/pscratch/sd/l/lonappan/SOLAT'\n",
    "nside = 512\n",
    "cb_method = 'iso'\n",
    "beta = 0.35\n",
    "dust = 10\n",
    "synch = 5\n",
    "alpha = [0.1,0.1,0.2,0.2,.3,.3]\n",
    "atm_noise = True\n",
    "nsplits = 2\n",
    "bandpass = False"
   ]
  },
  {
   "cell_type": "code",
   "execution_count": 4,
   "metadata": {},
   "outputs": [
    {
     "name": "stderr",
     "output_type": "stream",
     "text": [
      "CMB : INFO - Loading CMB power spectra from file\n",
      "Mask : INFO - Downgrading mask LAT resolution\n",
      "Noise : INFO - Noise Model: White + 1/f noise v3.0.0\n"
     ]
    }
   ],
   "source": [
    "lat = LATsky(libdir,nside,cb_method,dust,synch,alpha,beta,atm_noise=atm_noise,nsplits=nsplits,bandpass=bandpass)"
   ]
  },
  {
   "cell_type": "code",
   "execution_count": 14,
   "metadata": {},
   "outputs": [
    {
     "name": "stderr",
     "output_type": "stream",
     "text": [
      "Spectra : INFO - Reading apodised mask from /pscratch/sd/l/lonappan/SOLAT/LAT_atm_noise_2splits/spectra_512_aposcale2p0_common/workspaces/mask_N512_aposcale2p0_CO_PS.fits\n"
     ]
    },
    {
     "name": "stderr",
     "output_type": "stream",
     "text": [
      "Spectra : INFO - Reading coupling Matrix from /pscratch/sd/l/lonappan/SOLAT/LAT_atm_noise_2splits/spectra_512_aposcale2p0_common/workspaces/coupling_matrix_N512_fsky0p55_aposcale2p0_CO_PS.fits\n",
      "Spectra : INFO - Parallelized double loop\n"
     ]
    }
   ],
   "source": [
    "spec = Spectra(lat,cache=True,parallel=2)"
   ]
  },
  {
   "cell_type": "code",
   "execution_count": 15,
   "metadata": {},
   "outputs": [],
   "source": [
    "fit = \"As + Asd + Ad + beta + alpha\"\n",
    "binwidth = 20\n",
    "bmin = 70\n",
    "bmax = 1500"
   ]
  },
  {
   "cell_type": "code",
   "execution_count": 16,
   "metadata": {},
   "outputs": [
    {
     "name": "stderr",
     "output_type": "stream",
     "text": [
      "CMB : INFO - Loading CMB power spectra from file\n"
     ]
    },
    {
     "name": "stdout",
     "output_type": "stream",
     "text": [
      "Fitting a common polarisation angle per frequency\n",
      "Don't use cross-spectra of bands within the same optical tube\n"
     ]
    }
   ],
   "source": [
    "ml = MLE(libdir,spec,fit, alpha_per_split=False,rm_same_tube=True)"
   ]
  },
  {
   "cell_type": "code",
   "execution_count": 18,
   "metadata": {},
   "outputs": [
    {
     "name": "stderr",
     "output_type": "stream",
     "text": [
      "dust x dust spectra: 100%|██████████| 6/6 [00:24<00:00,  4.07s/band]\n",
      "obs x obs spectra: 100%|██████████| 12/12 [01:09<00:00,  5.80s/band]\n",
      "dust x obs spectra: 100%|██████████| 6/6 [01:00<00:00, 10.07s/band]\n",
      "sync x dust spectra: 100%|██████████| 6/6 [00:43<00:00,  7.29s/band]\n",
      "sync x sync spectra: 100%|██████████| 6/6 [00:28<00:00,  4.82s/band]\n",
      "sync x obs spectra: 100%|██████████| 6/6 [01:03<00:00, 10.50s/band]\n"
     ]
    },
    {
     "data": {
      "text/plain": [
       "{'As': 1.7806081961936413,\n",
       " 'Asd': -0.612196398826119,\n",
       " 'Ad': 0.6342462669439568,\n",
       " 'beta': 0.330422902904027,\n",
       " '27': 0.2034011046930892,\n",
       " '39': 0.12213928680415145,\n",
       " '93': 0.2092685118459977,\n",
       " '145': 0.21271916806326246,\n",
       " '225': 0.29303462543740655,\n",
       " '280': 0.3256436905806473}"
      ]
     },
     "execution_count": 18,
     "metadata": {},
     "output_type": "execute_result"
    }
   ],
   "source": [
    "ml.estimate_angles(0)"
   ]
  },
  {
   "cell_type": "code",
   "execution_count": null,
   "metadata": {},
   "outputs": [],
   "source": []
  }
 ],
 "metadata": {
  "kernelspec": {
   "display_name": "Python 3",
   "language": "python",
   "name": "python3"
  },
  "language_info": {
   "codemirror_mode": {
    "name": "ipython",
    "version": 3
   },
   "file_extension": ".py",
   "mimetype": "text/x-python",
   "name": "python",
   "nbconvert_exporter": "python",
   "pygments_lexer": "ipython3",
   "version": "3.10.15"
  }
 },
 "nbformat": 4,
 "nbformat_minor": 2
}
