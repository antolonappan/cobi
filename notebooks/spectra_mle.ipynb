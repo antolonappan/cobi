{
 "cells": [
  {
   "cell_type": "code",
   "execution_count": 1,
   "metadata": {},
   "outputs": [],
   "source": [
    "\n",
    "import numpy as np\n",
    "import matplotlib.pyplot as plt\n",
    "import sys\n",
    "import os\n",
    "from tqdm import tqdm\n",
    "sys.path.append('..')"
   ]
  },
  {
   "cell_type": "code",
   "execution_count": 2,
   "metadata": {},
   "outputs": [],
   "source": [
    "\n",
    "import numpy as np\n",
    "import matplotlib.pyplot as plt\n",
    "import sys\n",
    "import os\n",
    "from tqdm import tqdm\n",
    "sys.path.append('..')"
   ]
  },
  {
   "cell_type": "code",
   "execution_count": 3,
   "metadata": {},
   "outputs": [],
   "source": [
    "%load_ext autoreload\n",
    "%autoreload 2\n",
    "from solat_cb.simulation import *\n",
    "from solat_cb.spectra import *\n",
    "from solat_cb.mle import *"
   ]
  },
  {
   "cell_type": "code",
   "execution_count": 4,
   "metadata": {},
   "outputs": [],
   "source": [
    "libdir ='/pscratch/sd/l/lonappan/SOLAT'\n",
    "nside = 1024\n",
    "cb_method = 'iso'\n",
    "beta = 0.35\n",
    "dust = 10\n",
    "synch = 5\n",
    "alpha = [-0.1,-0.1,0.2,0.2,.15,.15]\n",
    "atm_noise = True\n",
    "nsplits = 2\n",
    "bandpass = False\n",
    "fit = \"As + Asd + Ad + beta + alpha\"\n",
    "binwidth = 20\n",
    "bmin = 60\n",
    "bmax = 2000"
   ]
  },
  {
   "cell_type": "code",
   "execution_count": 5,
   "metadata": {},
   "outputs": [
    {
     "name": "stderr",
     "output_type": "stream",
     "text": [
      "CMB : INFO - Loading CMB power spectra from file\n",
      "Noise : INFO - Noise Model: White + 1/f noise v3.0.0\n"
     ]
    }
   ],
   "source": [
    "lat = LATsky(libdir,nside,cb_method,dust,synch,alpha,beta,atm_noise=atm_noise,nsplits=nsplits,bandpass=bandpass)"
   ]
  },
  {
   "cell_type": "code",
   "execution_count": 6,
   "metadata": {},
   "outputs": [
    {
     "name": "stderr",
     "output_type": "stream",
     "text": [
      "Spectra : WARNING - Evaluating special case: Simulation uses 'd10s5' FG model\n",
      "Spectra : WARNING - The template foreground is set to d9s4\n",
      "Spectra : INFO - Reading apodised mask from /pscratch/sd/l/lonappan/SOLAT/LAT_atm_noise_2splits/spectra_1024_aposcale2p0_common_temp94/workspaces/mask_N1024_aposcale2p0_CO_PS.fits\n",
      "Spectra : INFO - Reading coupling Matrix from /pscratch/sd/l/lonappan/SOLAT/LAT_atm_noise_2splits/spectra_1024_aposcale2p0_common_temp94/workspaces/coupling_matrix_N1024_fsky0p55_aposcale2p0_CO_PS.fits\n",
      "Spectra : INFO - No parallelization\n"
     ]
    }
   ],
   "source": [
    "spec = Spectra(lat,cache=True,parallel=0,dust_model=9,sync_model=4)"
   ]
  },
  {
   "cell_type": "code",
   "execution_count": 7,
   "metadata": {},
   "outputs": [
    {
     "name": "stderr",
     "output_type": "stream",
     "text": [
      "MLE : WARNING - Special Case Noted: FG model in LATsky and Spectra object are different\n",
      "CMB : INFO - Loading CMB power spectra from file\n"
     ]
    },
    {
     "name": "stdout",
     "output_type": "stream",
     "text": [
      "Fitting a common polarisation angle per frequency\n"
     ]
    }
   ],
   "source": [
    "ml = MLE(libdir,spec,fit, alpha_per_split=False,rm_same_tube=False,binwidth=binwidth,bmin=bmin,bmax=bmax)"
   ]
  },
  {
   "cell_type": "code",
   "execution_count": 8,
   "metadata": {},
   "outputs": [
    {
     "name": "stderr",
     "output_type": "stream",
     "text": [
      "Spectra : WARNING - Special case: Assumes that there exsist a previous run\n",
      "Spectra : WARNING - Special case: the default obsxobs directory is /pscratch/sd/l/lonappan/SOLAT/LAT_atm_noise_2splits/spectra_1024_aposcale2p0_atm_noise_temp94/obs_x_obs\n",
      "Spectra : WARNING - Special case: the obsxobs directory is set to /pscratch/sd/l/lonappan/SOLAT/LAT_atm_noise_2splits/spectra_1024_aposcale2p0_atm_noise/obs_x_obs\n",
      "Spectra : WARNING - Special case: Assumes that there exsist a previous run\n",
      "Spectra : WARNING - Special case: the default obsxobs directory is /pscratch/sd/l/lonappan/SOLAT/LAT_atm_noise_2splits/spectra_1024_aposcale2p0_atm_noise_temp94/obs_x_obs\n",
      "Spectra : WARNING - Special case: the obsxobs directory is set to /pscratch/sd/l/lonappan/SOLAT/LAT_atm_noise_2splits/spectra_1024_aposcale2p0_atm_noise/obs_x_obs\n",
      "Spectra : WARNING - Special case: Assumes that there exsist a previous run\n",
      "Spectra : WARNING - Special case: the default obsxobs directory is /pscratch/sd/l/lonappan/SOLAT/LAT_atm_noise_2splits/spectra_1024_aposcale2p0_atm_noise_temp94/obs_x_obs\n",
      "Spectra : WARNING - Special case: the obsxobs directory is set to /pscratch/sd/l/lonappan/SOLAT/LAT_atm_noise_2splits/spectra_1024_aposcale2p0_atm_noise/obs_x_obs\n",
      "Spectra : WARNING - Special case: Assumes that there exsist a previous run\n",
      "Spectra : WARNING - Special case: the default obsxobs directory is /pscratch/sd/l/lonappan/SOLAT/LAT_atm_noise_2splits/spectra_1024_aposcale2p0_atm_noise_temp94/obs_x_obs\n",
      "Spectra : WARNING - Special case: the obsxobs directory is set to /pscratch/sd/l/lonappan/SOLAT/LAT_atm_noise_2splits/spectra_1024_aposcale2p0_atm_noise/obs_x_obs\n",
      "Spectra : WARNING - Special case: Assumes that there exsist a previous run\n",
      "Spectra : WARNING - Special case: the default obsxobs directory is /pscratch/sd/l/lonappan/SOLAT/LAT_atm_noise_2splits/spectra_1024_aposcale2p0_atm_noise_temp94/obs_x_obs\n",
      "Spectra : WARNING - Special case: the obsxobs directory is set to /pscratch/sd/l/lonappan/SOLAT/LAT_atm_noise_2splits/spectra_1024_aposcale2p0_atm_noise/obs_x_obs\n",
      "Spectra : WARNING - Special case: Assumes that there exsist a previous run\n",
      "Spectra : WARNING - Special case: the default obsxobs directory is /pscratch/sd/l/lonappan/SOLAT/LAT_atm_noise_2splits/spectra_1024_aposcale2p0_atm_noise_temp94/obs_x_obs\n",
      "Spectra : WARNING - Special case: the obsxobs directory is set to /pscratch/sd/l/lonappan/SOLAT/LAT_atm_noise_2splits/spectra_1024_aposcale2p0_atm_noise/obs_x_obs\n",
      "Spectra : WARNING - Special case: Assumes that there exsist a previous run\n",
      "Spectra : WARNING - Special case: the default obsxobs directory is /pscratch/sd/l/lonappan/SOLAT/LAT_atm_noise_2splits/spectra_1024_aposcale2p0_atm_noise_temp94/obs_x_obs\n",
      "Spectra : WARNING - Special case: the obsxobs directory is set to /pscratch/sd/l/lonappan/SOLAT/LAT_atm_noise_2splits/spectra_1024_aposcale2p0_atm_noise/obs_x_obs\n",
      "Spectra : WARNING - Special case: Assumes that there exsist a previous run\n",
      "Spectra : WARNING - Special case: the default obsxobs directory is /pscratch/sd/l/lonappan/SOLAT/LAT_atm_noise_2splits/spectra_1024_aposcale2p0_atm_noise_temp94/obs_x_obs\n",
      "Spectra : WARNING - Special case: the obsxobs directory is set to /pscratch/sd/l/lonappan/SOLAT/LAT_atm_noise_2splits/spectra_1024_aposcale2p0_atm_noise/obs_x_obs\n",
      "Spectra : WARNING - Special case: Assumes that there exsist a previous run\n",
      "Spectra : WARNING - Special case: the default obsxobs directory is /pscratch/sd/l/lonappan/SOLAT/LAT_atm_noise_2splits/spectra_1024_aposcale2p0_atm_noise_temp94/obs_x_obs\n",
      "Spectra : WARNING - Special case: the obsxobs directory is set to /pscratch/sd/l/lonappan/SOLAT/LAT_atm_noise_2splits/spectra_1024_aposcale2p0_atm_noise/obs_x_obs\n",
      "Spectra : WARNING - Special case: Assumes that there exsist a previous run\n",
      "Spectra : WARNING - Special case: the default obsxobs directory is /pscratch/sd/l/lonappan/SOLAT/LAT_atm_noise_2splits/spectra_1024_aposcale2p0_atm_noise_temp94/obs_x_obs\n",
      "Spectra : WARNING - Special case: the obsxobs directory is set to /pscratch/sd/l/lonappan/SOLAT/LAT_atm_noise_2splits/spectra_1024_aposcale2p0_atm_noise/obs_x_obs\n",
      "Spectra : WARNING - Special case: Assumes that there exsist a previous run\n",
      "Spectra : WARNING - Special case: the default obsxobs directory is /pscratch/sd/l/lonappan/SOLAT/LAT_atm_noise_2splits/spectra_1024_aposcale2p0_atm_noise_temp94/obs_x_obs\n",
      "Spectra : WARNING - Special case: the obsxobs directory is set to /pscratch/sd/l/lonappan/SOLAT/LAT_atm_noise_2splits/spectra_1024_aposcale2p0_atm_noise/obs_x_obs\n",
      "Spectra : WARNING - Special case: Assumes that there exsist a previous run\n",
      "Spectra : WARNING - Special case: the default obsxobs directory is /pscratch/sd/l/lonappan/SOLAT/LAT_atm_noise_2splits/spectra_1024_aposcale2p0_atm_noise_temp94/obs_x_obs\n",
      "Spectra : WARNING - Special case: the obsxobs directory is set to /pscratch/sd/l/lonappan/SOLAT/LAT_atm_noise_2splits/spectra_1024_aposcale2p0_atm_noise/obs_x_obs\n"
     ]
    },
    {
     "data": {
      "text/plain": [
       "{'As': 2.305363478408839,\n",
       " 'Asd': 0.9038933948687158,\n",
       " 'Ad': 0.8887309021443616,\n",
       " 'beta': 0.28402656574056373,\n",
       " '27': 0.04516888796821087,\n",
       " '39': 0.057727178037557184,\n",
       " '93': 0.25831250490404073,\n",
       " '145': 0.25959069501893894,\n",
       " '225': 0.17709372961815065,\n",
       " '280': 0.17659626332156558}"
      ]
     },
     "execution_count": 8,
     "metadata": {},
     "output_type": "execute_result"
    }
   ],
   "source": [
    "ml.estimate_angles(0)"
   ]
  },
  {
   "cell_type": "code",
   "execution_count": 10,
   "metadata": {},
   "outputs": [
    {
     "data": {
      "text/plain": [
       "{'beta': {'mean': 0.37313768039968076, 'std': 0.08552193744615584},\n",
       " '27': {'mean': -0.12061358479466046, 'std': 0.09756239209559753},\n",
       " '39': {'mean': -0.12453960411620865, 'std': 0.09575914179661574},\n",
       " '93': {'mean': 0.17693374580922527, 'std': 0.08691987973149116},\n",
       " '145': {'mean': 0.17707032969613634, 'std': 0.08568152486320055},\n",
       " '225': {'mean': 0.12578388662362053, 'std': 0.0832789800508689},\n",
       " '280': {'mean': 0.12771204806125117, 'std': 0.08408245290885974}}"
      ]
     },
     "execution_count": 10,
     "metadata": {},
     "output_type": "execute_result"
    }
   ],
   "source": [
    "LowStat(ml).estimated_params()"
   ]
  },
  {
   "cell_type": "code",
   "execution_count": null,
   "metadata": {},
   "outputs": [],
   "source": []
  },
  {
   "cell_type": "code",
   "execution_count": null,
   "metadata": {},
   "outputs": [],
   "source": []
  },
  {
   "cell_type": "code",
   "execution_count": null,
   "metadata": {},
   "outputs": [],
   "source": []
  }
 ],
 "metadata": {
  "kernelspec": {
   "display_name": "Python 3",
   "language": "python",
   "name": "python3"
  },
  "language_info": {
   "codemirror_mode": {
    "name": "ipython",
    "version": 3
   },
   "file_extension": ".py",
   "mimetype": "text/x-python",
   "name": "python",
   "nbconvert_exporter": "python",
   "pygments_lexer": "ipython3",
   "version": "3.10.15"
  }
 },
 "nbformat": 4,
 "nbformat_minor": 2
}
