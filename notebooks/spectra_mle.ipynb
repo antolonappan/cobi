{
 "cells": [
  {
   "cell_type": "code",
   "execution_count": 1,
   "metadata": {},
   "outputs": [],
   "source": [
    "\n",
    "import numpy as np\n",
    "import matplotlib.pyplot as plt\n",
    "import sys\n",
    "import os\n",
    "from tqdm import tqdm\n",
    "sys.path.append('..')"
   ]
  },
  {
   "cell_type": "code",
   "execution_count": 2,
   "metadata": {},
   "outputs": [],
   "source": [
    "%load_ext autoreload\n",
    "%autoreload 2\n",
    "from solat_cb.simulation import *\n",
    "from solat_cb.spectra import *\n",
    "from solat_cb.mle import *"
   ]
  },
  {
   "cell_type": "code",
   "execution_count": 19,
   "metadata": {},
   "outputs": [],
   "source": [
    "libdir ='/pscratch/sd/l/lonappan/SOLAT'\n",
    "nside = 1024\n",
    "cb_method = 'iso'\n",
    "beta = 0.35\n",
    "dust = 10\n",
    "synch = 5\n",
    "alpha = [-0.1,-0.1,0.2,0.2,.15,.15]\n",
    "atm_noise = True\n",
    "nsplits = 2\n",
    "bandpass = False\n",
    "fit = \"As + Asd + Ad + beta + alpha\"\n",
    "binwidth = 20\n",
    "bmin = 60\n",
    "bmax = 2000"
   ]
  },
  {
   "cell_type": "code",
   "execution_count": 20,
   "metadata": {},
   "outputs": [
    {
     "name": "stderr",
     "output_type": "stream",
     "text": [
      "CMB : INFO - Loading CMB power spectra from file\n"
     ]
    },
    {
     "name": "stderr",
     "output_type": "stream",
     "text": [
      "Noise : INFO - Noise Model: White noise v3.0.0\n",
      "CMB : INFO - Loading CMB power spectra from file\n",
      "Noise : INFO - Noise Model: White + 1/f noise v3.0.0\n"
     ]
    }
   ],
   "source": [
    "lat_wn = LATsky(libdir,nside,cb_method,dust,synch,alpha,beta,atm_noise=False,nsplits=nsplits,bandpass=bandpass)\n",
    "lat_1f = LATsky(libdir,nside,cb_method,dust,synch,alpha,beta,atm_noise=True,nsplits=nsplits,bandpass=bandpass)"
   ]
  },
  {
   "cell_type": "code",
   "execution_count": 21,
   "metadata": {},
   "outputs": [
    {
     "name": "stderr",
     "output_type": "stream",
     "text": [
      "Spectra : INFO - Reading apodised mask from /pscratch/sd/l/lonappan/SOLAT/LAT_white_noise_2splits/spectra_1024_aposcale2p0_common/workspaces/mask_N1024_aposcale2p0_CO_PS.fits\n",
      "Spectra : INFO - Reading coupling Matrix from /pscratch/sd/l/lonappan/SOLAT/LAT_white_noise_2splits/spectra_1024_aposcale2p0_common/workspaces/coupling_matrix_N1024_fsky0p55_aposcale2p0_CO_PS.fits\n",
      "Spectra : INFO - Parallelized single loop\n",
      "Spectra : INFO - Reading apodised mask from /pscratch/sd/l/lonappan/SOLAT/LAT_atm_noise_2splits/spectra_1024_aposcale2p0_common/workspaces/mask_N1024_aposcale2p0_CO_PS.fits\n",
      "Spectra : INFO - Reading coupling Matrix from /pscratch/sd/l/lonappan/SOLAT/LAT_atm_noise_2splits/spectra_1024_aposcale2p0_common/workspaces/coupling_matrix_N1024_fsky0p55_aposcale2p0_CO_PS.fits\n",
      "Spectra : INFO - Parallelized single loop\n"
     ]
    }
   ],
   "source": [
    "spec_wn = Spectra(lat_wn,cache=True,parallel=1)\n",
    "spec_1f = Spectra(lat_1f,cache=True,parallel=1)"
   ]
  },
  {
   "cell_type": "code",
   "execution_count": 26,
   "metadata": {},
   "outputs": [
    {
     "name": "stderr",
     "output_type": "stream",
     "text": [
      "CMB : INFO - Loading CMB power spectra from file\n",
      "CMB : INFO - Loading CMB power spectra from file\n",
      "CMB : INFO - Loading CMB power spectra from file\n"
     ]
    },
    {
     "name": "stdout",
     "output_type": "stream",
     "text": [
      "Fitting a common polarisation angle per frequency\n",
      "Fitting a common polarisation angle per frequency\n",
      "Fitting a common polarisation angle per frequency\n",
      "Don't use cross-spectra of bands within the same optical tube\n"
     ]
    }
   ],
   "source": [
    "ml_wn = MLE(libdir,spec_wn,fit, alpha_per_split=False,rm_same_tube=False,binwidth=binwidth,bmin=bmin,bmax=bmax)\n",
    "ml_1f = MLE(libdir,spec_1f,fit, alpha_per_split=False,rm_same_tube=False,binwidth=binwidth,bmin=bmin,bmax=bmax)\n",
    "ml_1f_rm = MLE(libdir,spec_1f,fit, alpha_per_split=False,rm_same_tube=True,binwidth=binwidth,bmin=bmin,bmax=bmax)"
   ]
  },
  {
   "cell_type": "code",
   "execution_count": 9,
   "metadata": {},
   "outputs": [
    {
     "name": "stderr",
     "output_type": "stream",
     "text": [
      "dust x dust spectra: 100%|██████████| 6/6 [01:08<00:00, 11.44s/band]\n",
      "Saving Observed QUs: 100%|██████████| 12/12 [00:09<00:00,  1.31band/s]\n",
      "obs x obs spectra: 100%|██████████| 12/12 [03:25<00:00, 17.12s/band]\n",
      "dust x obs spectra: 100%|██████████| 6/6 [03:04<00:00, 30.71s/band] \n",
      "sync x dust spectra: 100%|██████████| 6/6 [01:40<00:00, 16.82s/band] \n",
      "sync x sync spectra: 100%|██████████| 6/6 [01:05<00:00, 10.99s/band]\n",
      "sync x obs spectra: 100%|██████████| 6/6 [03:05<00:00, 30.87s/band] \n"
     ]
    },
    {
     "data": {
      "text/plain": [
       "{'As': 2.2392708431683235,\n",
       " 'Asd': 1.0133189320428817,\n",
       " 'Ad': 0.9226392457953934,\n",
       " 'beta': 0.28458740971045743,\n",
       " '27': 0.04590011833803151,\n",
       " '39': 0.057542118812855335,\n",
       " '93': 0.25795747987490747,\n",
       " '145': 0.2592744108309074,\n",
       " '225': 0.17710366990047585,\n",
       " '280': 0.17709276676647362}"
      ]
     },
     "execution_count": 9,
     "metadata": {},
     "output_type": "execute_result"
    }
   ],
   "source": [
    "ml.estimate_angles(0,)"
   ]
  },
  {
   "cell_type": "code",
   "execution_count": 7,
   "metadata": {},
   "outputs": [
    {
     "data": {
      "text/plain": [
       "{'beta': {'mean': 0.35003292503457567, 'std': 0.10569935744489191},\n",
       " '27': {'mean': -0.10150120530707227, 'std': 0.11937089261231236},\n",
       " '39': {'mean': -0.10345206166418527, 'std': 0.11579455461064624},\n",
       " '93': {'mean': 0.19908491504616815, 'std': 0.10571245090125095},\n",
       " '145': {'mean': 0.19842244310784868, 'std': 0.10330810003892636},\n",
       " '225': {'mean': 0.1486958343407219, 'std': 0.10412756215363456},\n",
       " '280': {'mean': 0.15342110019919358, 'std': 0.10575708597750573}}"
      ]
     },
     "execution_count": 7,
     "metadata": {},
     "output_type": "execute_result"
    }
   ],
   "source": [
    "LowStat(ml).estimated_params()"
   ]
  },
  {
   "cell_type": "code",
   "execution_count": 14,
   "metadata": {},
   "outputs": [
    {
     "name": "stderr",
     "output_type": "stream",
     "text": [
      "CMB : INFO - Loading CMB power spectra from file\n",
      "CMB : INFO - Loading CMB power spectra from file\n"
     ]
    },
    {
     "name": "stdout",
     "output_type": "stream",
     "text": [
      "Fitting a common polarisation angle per frequency\n",
      "Fitting a common polarisation angle per frequency\n"
     ]
    }
   ],
   "source": [
    "ml1 = MLE(libdir,spec,fit, alpha_per_split=False,rm_same_tube=False,binwidth=binwidth,bmin=100,bmax=2000)\n",
    "ml2 = MLE(libdir,spec,fit, alpha_per_split=False,rm_same_tube=False,binwidth=binwidth,bmin=100,bmax=2000)"
   ]
  },
  {
   "cell_type": "code",
   "execution_count": 27,
   "metadata": {},
   "outputs": [],
   "source": [
    "cases = {}\n",
    "cases['WN'] = [ml_wn]\n",
    "cases['1/f'] = [ml_1f]\n",
    "cases['1/f_rm'] = [ml_1f_rm]\n",
    "#cases['WN+1/f'] = [ml1,ml2]"
   ]
  },
  {
   "cell_type": "code",
   "execution_count": 28,
   "metadata": {},
   "outputs": [],
   "source": [
    "ms = MultiStat(cases)\n"
   ]
  },
  {
   "cell_type": "code",
   "execution_count": 29,
   "metadata": {},
   "outputs": [
    {
     "data": {
      "image/png": "[encoded data removed]",
      "text/plain": [
       "<Figure size 600x600 with 7 Axes>"
      ]
     },
     "metadata": {},
     "output_type": "display_data"
    }
   ],
   "source": [
    "ms.plot()"
   ]
  },
  {
   "cell_type": "code",
   "execution_count": null,
   "metadata": {},
   "outputs": [],
   "source": []
  }
 ],
 "metadata": {
  "kernelspec": {
   "display_name": "Python 3",
   "language": "python",
   "name": "python3"
  },
  "language_info": {
   "codemirror_mode": {
    "name": "ipython",
    "version": 3
   },
   "file_extension": ".py",
   "mimetype": "text/x-python",
   "name": "python",
   "nbconvert_exporter": "python",
   "pygments_lexer": "ipython3",
   "version": "3.10.15"
  }
 },
 "nbformat": 4,
 "nbformat_minor": 2
}
