{
 "cells": [
  {
   "cell_type": "code",
   "execution_count": 1,
   "metadata": {},
   "outputs": [],
   "source": [
    "\n",
    "import numpy as np\n",
    "import matplotlib.pyplot as plt\n",
    "import sys\n",
    "import os\n",
    "from tqdm import tqdm\n",
    "sys.path.append('..')"
   ]
  },
  {
   "cell_type": "code",
   "execution_count": 2,
   "metadata": {},
   "outputs": [],
   "source": [
    "%load_ext autoreload\n",
    "%autoreload 2\n",
    "from solat_cb.simulation import *\n",
    "from solat_cb.spectra import *\n",
    "from solat_cb.mle import *"
   ]
  },
  {
   "cell_type": "code",
   "execution_count": 4,
   "metadata": {},
   "outputs": [],
   "source": [
    "libdir ='/pscratch/sd/l/lonappan/SOLAT'\n",
    "nside = 512\n",
    "cb_method = 'iso'\n",
    "beta = 0.35\n",
    "dust = 10\n",
    "synch = 5\n",
    "alpha = [0.1,0.1,0.2,0.2,.3,.3]\n",
    "atm_noise = True\n",
    "nsplits = 2\n",
    "bandpass = False"
   ]
  },
  {
   "cell_type": "code",
   "execution_count": 5,
   "metadata": {},
   "outputs": [
    {
     "name": "stderr",
     "output_type": "stream",
     "text": [
      "CMB : INFO - Loading CMB power spectra from file\n",
      "Mask : INFO - Downgrading mask LAT resolution\n",
      "Noise : INFO - Noise Model: White + 1/f noise v3.0.0\n",
      "Spectra : INFO - Reading apodised mask from /pscratch/sd/l/lonappan/SOLAT/LAT_atm_noise_2splits/spectra_512_aposcale2p0_common/workspaces/mask_N512_aposcale2p0_CO_PS.fits\n",
      "Spectra : INFO - Reading coupling Matrix from /pscratch/sd/l/lonappan/SOLAT/LAT_atm_noise_2splits/spectra_512_aposcale2p0_common/workspaces/coupling_matrix_N512_fsky0p55_aposcale2p0_CO_PS.fits\n"
     ]
    }
   ],
   "source": [
    "lat = LATsky(libdir,nside,cb_method,dust,synch,alpha,beta,atm_noise=atm_noise,nsplits=nsplits,bandpass=bandpass)\n",
    "spec = Spectra(lat)"
   ]
  },
  {
   "cell_type": "code",
   "execution_count": 19,
   "metadata": {},
   "outputs": [
    {
     "name": "stderr",
     "output_type": "stream",
     "text": [
      "dust x dust spectra: 100%|██████████| 6/6 [00:00<00:00, 516.21band/s]\n",
      "obs x obs spectra: 100%|██████████| 12/12 [00:00<00:00, 234.32band/s]\n",
      "dust x obs spectra: 100%|██████████| 6/6 [00:00<00:00, 316.65band/s]\n",
      "sync x dust spectra: 100%|██████████| 6/6 [00:00<00:00, 506.85band/s]\n",
      "sync x sync spectra: 100%|██████████| 6/6 [00:00<00:00, 566.42band/s]\n",
      "sync x obs spectra: 100%|██████████| 6/6 [00:00<00:00, 328.54band/s]\n"
     ]
    }
   ],
   "source": [
    "spec.compute(1,True)"
   ]
  },
  {
   "cell_type": "code",
   "execution_count": 20,
   "metadata": {},
   "outputs": [],
   "source": [
    "fit = \"As + Asd + Ad + beta + alpha\"\n",
    "binwidth = 20\n",
    "bmin = 70\n",
    "bmax = 1500"
   ]
  },
  {
   "cell_type": "code",
   "execution_count": 23,
   "metadata": {},
   "outputs": [
    {
     "name": "stderr",
     "output_type": "stream",
     "text": [
      "CMB : INFO - Loading CMB power spectra from file\n"
     ]
    },
    {
     "name": "stdout",
     "output_type": "stream",
     "text": [
      "Fitting a common polarisation angle per frequency\n",
      "Don't use cross-spectra of bands within the same optical tube\n"
     ]
    }
   ],
   "source": [
    "ml = MLE(libdir,spec,fit, alpha_per_split=False,rm_same_tube=True)"
   ]
  },
  {
   "cell_type": "code",
   "execution_count": 24,
   "metadata": {},
   "outputs": [
    {
     "data": {
      "text/plain": [
       "{'As': 1.0068323780141584,\n",
       " 'Asd': -0.4590483587026826,\n",
       " 'Ad': 0.46799807097199503,\n",
       " 'beta': 0.3753124117106968,\n",
       " '27': -0.0059119057143269425,\n",
       " '39': 0.04579574609228392,\n",
       " '93': 0.16881492025489,\n",
       " '145': 0.15285506412529914,\n",
       " '225': 0.23409644051792683,\n",
       " '280': 0.1931820235710879}"
      ]
     },
     "execution_count": 24,
     "metadata": {},
     "output_type": "execute_result"
    }
   ],
   "source": [
    "ml.estimate_angles(0)"
   ]
  },
  {
   "cell_type": "code",
   "execution_count": null,
   "metadata": {},
   "outputs": [],
   "source": []
  }
 ],
 "metadata": {
  "kernelspec": {
   "display_name": "Python 3",
   "language": "python",
   "name": "python3"
  },
  "language_info": {
   "codemirror_mode": {
    "name": "ipython",
    "version": 3
   },
   "file_extension": ".py",
   "mimetype": "text/x-python",
   "name": "python",
   "nbconvert_exporter": "python",
   "pygments_lexer": "ipython3",
   "version": "3.10.15"
  }
 },
 "nbformat": 4,
 "nbformat_minor": 2
}
