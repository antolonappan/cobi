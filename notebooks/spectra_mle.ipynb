{
 "cells": [
  {
   "cell_type": "code",
   "execution_count": 1,
   "metadata": {},
   "outputs": [],
   "source": [
    "\n",
    "import numpy as np\n",
    "import matplotlib.pyplot as plt\n",
    "import sys\n",
    "import os\n",
    "from tqdm import tqdm\n",
    "sys.path.append('..')"
   ]
  },
  {
   "cell_type": "code",
   "execution_count": 2,
   "metadata": {},
   "outputs": [],
   "source": [
    "%load_ext autoreload\n",
    "%autoreload 2\n",
    "from solat_cb.simulation import *\n",
    "from solat_cb.spectra import *\n",
    "from solat_cb.mle import *"
   ]
  },
  {
   "cell_type": "code",
   "execution_count": 3,
   "metadata": {},
   "outputs": [],
   "source": [
    "libdir ='/pscratch/sd/l/lonappan/SOLAT'\n",
    "nside = 1024\n",
    "cb_method = 'iso'\n",
    "beta = 0.35\n",
    "dust = 10\n",
    "synch = 5\n",
    "alpha = [0.1,0.1,0.2,0.2,.3,.3]\n",
    "atm_noise = False\n",
    "nsplits = 2\n",
    "bandpass = False"
   ]
  },
  {
   "cell_type": "code",
   "execution_count": 4,
   "metadata": {},
   "outputs": [
    {
     "name": "stderr",
     "output_type": "stream",
     "text": [
      "CMB : INFO - Loading CMB power spectra from file\n",
      "Noise : INFO - Noise Model: White noise v3.0.0\n"
     ]
    }
   ],
   "source": [
    "lat = LATsky(libdir,nside,cb_method,dust,synch,alpha,beta,atm_noise=atm_noise,nsplits=nsplits,bandpass=bandpass)"
   ]
  },
  {
   "cell_type": "code",
   "execution_count": 5,
   "metadata": {},
   "outputs": [
    {
     "name": "stderr",
     "output_type": "stream",
     "text": [
      "Mask : INFO - Loading composite mask\n",
      "Mask : INFO - Upgrading mask LAT resolution\n",
      "Mask : INFO - Upgrading mask CO resolution\n",
      "Mask : INFO - Upgrading mask PS resolution\n",
      "Mask : INFO - Composite Mask LATxCOxPS: fsky changed 0.93 -> 0.59  \n",
      "Mask : INFO - Apodizing mask: scale 2.0: method: C2\n",
      "Mask : INFO - Apodizing changed the fsky 0.594 -> 0.546\n",
      "Spectra : INFO - Apodised mask saved to /pscratch/sd/l/lonappan/SOLAT/LAT_white_noise_2splits/spectra_1024_aposcale2p0_common/workspaces/mask_N1024_aposcale2p0_CO_PS.fits\n",
      "Spectra : INFO - Computing coupling Matrix\n",
      "Spectra : INFO - Coupling Matrix saved to /pscratch/sd/l/lonappan/SOLAT/LAT_white_noise_2splits/spectra_1024_aposcale2p0_common/workspaces/coupling_matrix_N1024_fsky0p55_aposcale2p0_CO_PS.fits\n",
      "Spectra : INFO - Parallelized single loop\n"
     ]
    }
   ],
   "source": [
    "spec = Spectra(lat,cache=True,parallel=1)"
   ]
  },
  {
   "cell_type": "code",
   "execution_count": 6,
   "metadata": {},
   "outputs": [],
   "source": [
    "fit = \"As + Asd + Ad + beta + alpha\"\n",
    "binwidth = 20\n",
    "bmin = 60\n",
    "bmax = 1500"
   ]
  },
  {
   "cell_type": "code",
   "execution_count": 7,
   "metadata": {},
   "outputs": [
    {
     "name": "stderr",
     "output_type": "stream",
     "text": [
      "CMB : INFO - Loading CMB power spectra from file\n"
     ]
    },
    {
     "name": "stdout",
     "output_type": "stream",
     "text": [
      "Fitting a common polarisation angle per frequency\n"
     ]
    }
   ],
   "source": [
    "ml = MLE(libdir,spec,fit, alpha_per_split=False,rm_same_tube=False,binwidth=binwidth,bmin=bmin,bmax=bmax)"
   ]
  },
  {
   "cell_type": "code",
   "execution_count": 8,
   "metadata": {},
   "outputs": [
    {
     "name": "stderr",
     "output_type": "stream",
     "text": [
      "dust x dust spectra: 100%|██████████| 6/6 [01:23<00:00, 13.92s/band]\n",
      "Saving Observed QUs: 100%|██████████| 12/12 [00:10<00:00,  1.14band/s]\n",
      "obs x obs spectra: 100%|██████████| 12/12 [04:02<00:00, 20.19s/band]\n",
      "dust x obs spectra: 100%|██████████| 6/6 [03:47<00:00, 37.84s/band] \n",
      "sync x dust spectra: 100%|██████████| 6/6 [02:00<00:00, 20.00s/band] \n",
      "sync x sync spectra: 100%|██████████| 6/6 [01:25<00:00, 14.22s/band]\n",
      "sync x obs spectra: 100%|██████████| 6/6 [03:47<00:00, 37.85s/band] \n"
     ]
    },
    {
     "data": {
      "text/plain": [
       "{'As': 0.8925596724055773,\n",
       " 'Asd': 0.9537347148280229,\n",
       " 'Ad': 0.9237336078138254,\n",
       " 'beta': 0.27872277234172443,\n",
       " '27': 0.14701897527726834,\n",
       " '39': 0.1736798319287959,\n",
       " '93': 0.28081543008167814,\n",
       " '145': 0.2833891169847729,\n",
       " '225': 0.39291092905072755,\n",
       " '280': 0.42314180645276306}"
      ]
     },
     "execution_count": 8,
     "metadata": {},
     "output_type": "execute_result"
    }
   ],
   "source": [
    "ml.estimate_angles(0)"
   ]
  },
  {
   "cell_type": "code",
   "execution_count": null,
   "metadata": {},
   "outputs": [],
   "source": []
  }
 ],
 "metadata": {
  "kernelspec": {
   "display_name": "Python 3",
   "language": "python",
   "name": "python3"
  },
  "language_info": {
   "codemirror_mode": {
    "name": "ipython",
    "version": 3
   },
   "file_extension": ".py",
   "mimetype": "text/x-python",
   "name": "python",
   "nbconvert_exporter": "python",
   "pygments_lexer": "ipython3",
   "version": "3.10.15"
  }
 },
 "nbformat": 4,
 "nbformat_minor": 2
}
