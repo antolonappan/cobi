{
 "cells": [
  {
   "cell_type": "code",
   "execution_count": 1,
   "metadata": {
    "tags": []
   },
   "outputs": [],
   "source": [
    "import numpy as np\n",
    "import matplotlib.pyplot as plt\n",
    "import sys\n",
    "import healpy as hp\n",
    "import os\n",
    "from tqdm import tqdm\n",
    "sys.path.append('..')\n",
    "import pickle as pl\n",
    "import scipy.optimize as op\n",
    "import corner\n",
    "import emcee\n",
    "from getdist import plots, MCSamples\n",
    "import getdist\n",
    "import matplotlib\n",
    "%matplotlib inline"
   ]
  },
  {
   "cell_type": "code",
   "execution_count": 2,
   "metadata": {
    "tags": []
   },
   "outputs": [],
   "source": [
    "%load_ext autoreload\n",
    "%autoreload 2\n",
    "from solat_cb.simulation import CMB, BandpassInt, Foreground, Mask, Noise, LATsky, SATsky\n",
    "from solat_cb.spectra import Spectra\n",
    "from solat_cb.calibration import Sat4Lat"
   ]
  },
  {
   "cell_type": "code",
   "execution_count": 3,
   "metadata": {
    "tags": []
   },
   "outputs": [],
   "source": [
    "lib ='/pscratch/sd/l/lonappan/SOLATcalib'\n",
    "nside = 512\n",
    "lmax = 3*nside - 1\n",
    "cb_method = 'iso'\n",
    "beta = 0.35\n",
    "dust = 10\n",
    "synch = 5\n",
    "alpha_sat = [0.05,0.05,-0.08,-0.08,.07,.07]\n",
    "alpha_lat = [-0.1,-0.1,0.2,0.2,.15,.15]\n",
    "atm_noise = True\n",
    "nsplits = 1\n",
    "bandpass = False\n",
    "deconv_maps = False"
   ]
  },
  {
   "cell_type": "code",
   "execution_count": 4,
   "metadata": {
    "tags": []
   },
   "outputs": [
    {
     "name": "stderr",
     "output_type": "stream",
     "text": [
      "CMB : INFO - Loading CMB power spectra from file\n",
      "CMB : INFO - Isotropic cosmic birefringence model selected\n",
      "Mask : INFO - Downgrading mask LAT resolution\n",
      "Noise : INFO - Noise Model:[LAT] White + 1/f noise v3.1.1\n"
     ]
    }
   ],
   "source": [
    "lat = LATsky(lib,nside,cb_method,dust,synch,alpha_lat,beta,atm_noise=atm_noise,nsplits=nsplits,bandpass=bandpass,deconv_maps=deconv_maps)"
   ]
  },
  {
   "cell_type": "code",
   "execution_count": 5,
   "metadata": {
    "tags": []
   },
   "outputs": [
    {
     "name": "stderr",
     "output_type": "stream",
     "text": [
      "CMB : INFO - Loading CMB power spectra from file\n",
      "CMB : INFO - Isotropic cosmic birefringence model selected\n",
      "Mask : INFO - Downgrading mask SAT resolution\n",
      "/pscratch/sd/l/lonappan/software_pkgs/cb/lib/python3.10/site-packages/so_models_v3/SO_Noise_Calculator_Public_v3_1_1.py:215: RuntimeWarning: divide by zero encountered in scalar divide\n",
      "  cov_weight[i,j] += ( tube_count * N_tels /\n",
      "Noise : INFO - Noise Model:[SAT] White + 1/f noise v3.1.1\n"
     ]
    }
   ],
   "source": [
    "sat = SATsky(lib,nside,cb_method,dust,synch,alpha_sat,beta,atm_noise=atm_noise,nsplits=nsplits,bandpass=bandpass,deconv_maps=deconv_maps)"
   ]
  },
  {
   "cell_type": "code",
   "execution_count": 6,
   "metadata": {
    "tags": []
   },
   "outputs": [
    {
     "name": "stderr",
     "output_type": "stream",
     "text": [
      "Spectra : INFO - Reading apodised mask from /pscratch/sd/l/lonappan/SOLATcalib/LAT_atm_noise_1splits/spectra_512_aposcale2p0_common/workspaces/mask_N512_aposcale2p0_CO_PS_G40.fits\n",
      "Spectra : INFO - Reading coupling Matrix from /pscratch/sd/l/lonappan/SOLATcalib/LAT_atm_noise_1splits/spectra_512_aposcale2p0_common/workspaces/coupling_matrix_N512_fsky0p24_aposcale2p0_bw5_CO_PS_G40.fits\n",
      "Spectra : INFO - Parallelized double loop\n",
      "Spectra : INFO - Reading apodised mask from /pscratch/sd/l/lonappan/SOLATcalib/SAT_atm_noise_1splits/spectra_512_aposcale2p0_common/workspaces/mask_N512_aposcale2p0_G40.fits\n",
      "Spectra : INFO - Reading coupling Matrix from /pscratch/sd/l/lonappan/SOLATcalib/SAT_atm_noise_1splits/spectra_512_aposcale2p0_common/workspaces/coupling_matrix_N512_fsky0p09_aposcale2p0_bw5_G40.fits\n",
      "Spectra : INFO - Parallelized double loop\n"
     ]
    }
   ],
   "source": [
    "latspectra = Spectra(lat,parallel=2,galcut=40,binwidth=5)\n",
    "satspectra = Spectra(sat,parallel=2,galcut=40,CO=False,PS=False,binwidth=5)"
   ]
  },
  {
   "cell_type": "code",
   "execution_count": 23,
   "metadata": {
    "tags": []
   },
   "outputs": [
    {
     "name": "stderr",
     "output_type": "stream",
     "text": [
      "CMB : INFO - Loading CMB power spectra from file\n",
      "INFO:CMB:Loading CMB power spectra from file\n",
      "CMB : INFO - Isotropic cosmic birefringence model selected\n",
      "INFO:CMB:Isotropic cosmic birefringence model selected\n"
     ]
    }
   ],
   "source": [
    "c = Sat4Lat(lib,latspectra,satspectra,50,500,0.07,alpha_sat,alpha_lat,beta)"
   ]
  },
  {
   "cell_type": "code",
   "execution_count": 33,
   "metadata": {
    "tags": []
   },
   "outputs": [
    {
     "name": "stdout",
     "output_type": "stream",
     "text": [
      "Removed no burn in\n"
     ]
    },
    {
     "data": {
      "image/png": "[encoded data removed]",
      "text/plain": [
       "<Figure size 400x300 with 1 Axes>"
      ]
     },
     "metadata": {},
     "output_type": "display_data"
    }
   ],
   "source": [
    "c.plot_getdist(100,2000,avoid_sat=False,beta_only=True)\n",
    "plt.savefig('full.pdf',dpi=300,bbox_inches='tight')"
   ]
  },
  {
   "cell_type": "code",
   "execution_count": null,
   "metadata": {},
   "outputs": [],
   "source": []
  }
 ],
 "metadata": {
  "kernelspec": {
   "display_name": "Python 3",
   "language": "python",
   "name": "python3"
  },
  "language_info": {
   "codemirror_mode": {
    "name": "ipython",
    "version": 3
   },
   "file_extension": ".py",
   "mimetype": "text/x-python",
   "name": "python",
   "nbconvert_exporter": "python",
   "pygments_lexer": "ipython3",
   "version": "3.10.15"
  }
 },
 "nbformat": 4,
 "nbformat_minor": 4
}
