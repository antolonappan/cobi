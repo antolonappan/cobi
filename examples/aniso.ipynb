{
 "cells": [
  {
   "cell_type": "code",
   "execution_count": 24,
   "id": "a782c827",
   "metadata": {},
   "outputs": [],
   "source": [
    "import healpy as hp\n",
    "import matplotlib.pyplot as plt\n",
    "import numpy as np\n",
    "from tqdm import tqdm\n",
    "import camb\n",
    "import curvedsky as cs"
   ]
  },
  {
   "cell_type": "code",
   "execution_count": 2,
   "id": "5b75d142",
   "metadata": {},
   "outputs": [],
   "source": [
    "import sys\n",
    "sys.path.append('../../')"
   ]
  },
  {
   "cell_type": "code",
   "execution_count": 3,
   "id": "f9aec504",
   "metadata": {},
   "outputs": [],
   "source": [
    "%load_ext autoreload\n",
    "%autoreload 2\n",
    "from cobi.simulation import LATsky, Mask\n",
    "from cobi.quest import FilterEB, QE\n",
    "from cobi.sht import HealpixDUCC"
   ]
  },
  {
   "cell_type": "code",
   "execution_count": null,
   "id": "b666c666",
   "metadata": {},
   "outputs": [
    {
     "name": "stderr",
     "output_type": "stream",
     "text": [
      "CMB : INFO - Loading CMB power spectra from file\n",
      "CMB : INFO - Anisotropic cosmic birefringence model selected\n",
      "Noise : INFO - Noise Model:[LAT] White + 1/f noise v3.1.1\n"
     ]
    }
   ],
   "source": [
    "dir = '/global/cfs/cdirs/sobs/cosmic_birefringence/v1'\n",
    "alpha = [-0.1,-0.1,0.2,0.2,.15,.15]\n",
    "alpha_err = 0.1\n",
    "latsky1 = LATsky(dir, nside=1024, cb_model='aniso',Acb=4.0e-6, AEcb=-1.0e-3,lensing=False,alpha=alpha,alpha_err=alpha_err,nsplits=1)"
   ]
  },
  {
   "cell_type": "code",
   "execution_count": null,
   "id": "e212d7b0",
   "metadata": {},
   "outputs": [
    {
     "name": "stderr",
     "output_type": "stream",
     "text": [
      "Mask : INFO - The given galactic cut value seems in fsky and it corresponds to 80.0% of sky\n"
     ]
    },
    {
     "name": "stderr",
     "output_type": "stream",
     "text": [
      "Mask : INFO - The given galactic cut value seems in fsky and it corresponds to 80.0% of sky\n",
      "Mask : INFO - The given galactic cut value seems in fsky and it corresponds to 80.0% of sky\n"
     ]
    }
   ],
   "source": [
    "mask1 = Mask(latsky1.basedir, latsky1.nside,'LATxGAL', 2, gal_cut=0.8)"
   ]
  },
  {
   "cell_type": "code",
   "execution_count": null,
   "id": "6e2f2501",
   "metadata": {},
   "outputs": [],
   "source": [
    "filt1 = FilterEB(latsky1, mask1, lmax=3000, sht_backend='d')"
   ]
  },
  {
   "cell_type": "code",
   "execution_count": null,
   "id": "3709c4d3",
   "metadata": {},
   "outputs": [
    {
     "data": {
      "application/vnd.jupyter.widget-view+json": {
       "model_id": "aaaf362b821c4fe2a095c1473bf5f700",
       "version_major": 2,
       "version_minor": 0
      },
      "text/plain": [
       "Computing OCL:   0%|          | 0/100 [00:00<?, ?it/s]"
      ]
     },
     "metadata": {},
     "output_type": "display_data"
    }
   ],
   "source": [
    "qe1 = QE(filt1,100,3000,2048)\n"
   ]
  },
  {
   "cell_type": "code",
   "execution_count": 43,
   "id": "9da469fc",
   "metadata": {},
   "outputs": [
    {
     "name": "stderr",
     "output_type": "stream",
     "text": [
      "100%|██████████| 200/200 [00:44<00:00,  4.52it/s]\n"
     ]
    }
   ],
   "source": [
    "qcl = []\n",
    "for i in tqdm(range(200)):\n",
    "    qcl.append(qe1.qcl(i))\n",
    "qcl = np.array(qcl)"
   ]
  },
  {
   "cell_type": "code",
   "execution_count": 47,
   "id": "451d109b",
   "metadata": {},
   "outputs": [
    {
     "data": {
      "text/plain": [
       "array([2.51327412e+25, 1.25663706e-05, 4.18879020e-06, ...,\n",
       "       6.00089997e-12, 5.99503972e-12, 5.98918804e-12])"
      ]
     },
     "execution_count": 47,
     "metadata": {},
     "output_type": "execute_result"
    }
   ],
   "source": [
    "qe1.cl_aa"
   ]
  },
  {
   "cell_type": "code",
   "execution_count": null,
   "id": "736c62eb",
   "metadata": {},
   "outputs": [
    {
     "data": {
      "text/plain": [
       "[<matplotlib.lines.Line2D at 0x145ecda17b20>]"
      ]
     },
     "execution_count": 63,
     "metadata": {},
     "output_type": "execute_result"
    },
    {
     "data": {
      "image/png": "[encoded data removed]",
      "text/plain": [
       "<Figure size 640x480 with 1 Axes>"
      ]
     },
     "metadata": {},
     "output_type": "display_data"
    }
   ],
   "source": [
    "plt.semilogx(qe1.cl_aa*1e7)\n",
    "plt.semilogx(qcl.mean(axis=0)*1e7, label='QCL')\n",
    "plt\n",
    "plt.xlim(2,100)\n",
    "plt.fill_between(np.arange(len(qcl[0])), qcl.mean(axis=0)*1e7 - qcl.std(axis=0)*1e7, qcl.mean(axis=0)*1e7 + qcl.std(axis=0)*1e7, alpha=0.4)\n",
    "plt.loglog(qe1.RDN0(0)*1e7)\n"
   ]
  },
  {
   "cell_type": "code",
   "execution_count": null,
   "id": "ef687dc2",
   "metadata": {},
   "outputs": [],
   "source": []
  }
 ],
 "metadata": {
  "kernelspec": {
   "display_name": "cb",
   "language": "python",
   "name": "python3"
  },
  "language_info": {
   "codemirror_mode": {
    "name": "ipython",
    "version": 3
   },
   "file_extension": ".py",
   "mimetype": "text/x-python",
   "name": "python",
   "nbconvert_exporter": "python",
   "pygments_lexer": "ipython3",
   "version": "3.10.15"
  }
 },
 "nbformat": 4,
 "nbformat_minor": 5
}
