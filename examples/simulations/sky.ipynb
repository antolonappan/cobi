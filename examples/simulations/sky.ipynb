{
 "cells": [
  {
   "cell_type": "code",
   "execution_count": 1,
   "metadata": {},
   "outputs": [],
   "source": [
    "import healpy as hp\n",
    "import matplotlib.pyplot as plt\n",
    "import sys\n",
    "import numpy as np\n",
    "from tqdm import tqdm\n",
    "sys.path.append('../../')"
   ]
  },
  {
   "cell_type": "code",
   "execution_count": 2,
   "metadata": {},
   "outputs": [],
   "source": [
    "%load_ext autoreload\n",
    "%autoreload 2\n",
    "from cobi.simulation import LATsky\n",
    "from cobi.spectra import Spectra\n",
    "from cobi.mle import MLE"
   ]
  },
  {
   "cell_type": "code",
   "execution_count": 3,
   "metadata": {},
   "outputs": [],
   "source": [
    "libdir = '/global/cfs/cdirs/sobs/cosmic_birefringence/v0'\n",
    "nside = 2048\n",
    "cb_model = \"iso\"\n",
    "beta = 0.35\n",
    "alpha = [-0.1,-0.1,0.2,0.2,.15,.15]\n",
    "alpha_err = 0.1"
   ]
  },
  {
   "cell_type": "code",
   "execution_count": 4,
   "metadata": {},
   "outputs": [
    {
     "name": "stderr",
     "output_type": "stream",
     "text": [
      "CMB : INFO - Loading CMB power spectra from file\n",
      "CMB : INFO - Isotropic(constant) cosmic birefringence model selected\n",
      "Mask : INFO - Upgrading mask LAT resolution\n",
      "Noise : INFO - Noise Model: [LAT] Based on TOD and Map based simulations, directly using SO products.\n"
     ]
    }
   ],
   "source": [
    "lat = LATsky(libdir, nside, cb_model, beta, alpha=alpha,alpha_err=alpha_err, bandpass=True,verbose=True,noise_model='TOD')"
   ]
  },
  {
   "cell_type": "code",
   "execution_count": 5,
   "metadata": {},
   "outputs": [],
   "source": [
    "# for i in range(100):\n",
    "#     lat.checkObsQU(i,what='filesize')"
   ]
  },
  {
   "cell_type": "code",
   "execution_count": 6,
   "metadata": {},
   "outputs": [
    {
     "name": "stderr",
     "output_type": "stream",
     "text": [
      "Spectra : INFO - Reading apodised mask from /global/cfs/cdirs/sobs/cosmic_birefringence/v0/spectra_2048_aposcale2p0/workspaces/mask_N2048_aposcale2p0_CO_PS.fits\n",
      "Spectra : INFO - Reading coupling Matrix from /global/cfs/cdirs/sobs/cosmic_birefringence/v0/spectra_2048_aposcale2p0/workspaces/coupling_matrix_N2048_fsky0p55_aposcale2p0_bw1_CO_PS.fits\n",
      "Spectra : INFO - Parallelized single loop\n"
     ]
    }
   ],
   "source": [
    "spec = Spectra(lat, libdir, cache=True,parallel=1)\n",
    "#spec.Compute(3 , sync=True)"
   ]
  },
  {
   "cell_type": "code",
   "execution_count": 7,
   "metadata": {},
   "outputs": [
    {
     "name": "stderr",
     "output_type": "stream",
     "text": [
      "CMB : INFO - Loading CMB power spectra from file\n"
     ]
    },
    {
     "name": "stderr",
     "output_type": "stream",
     "text": [
      "CMB : INFO - Isotropic(constant) cosmic birefringence model selected\n"
     ]
    },
    {
     "name": "stdout",
     "output_type": "stream",
     "text": [
      "Fitting a common polarisation angle per frequency\n",
      "Don't use cross-spectra of bands within the same optical tube\n"
     ]
    }
   ],
   "source": [
    "fit = \"Ad + beta + alpha\"\n",
    "binwidth = 10\n",
    "bmin = 50\n",
    "bmax = 2000\n",
    "mle = MLE(libdir,spec,fit, alpha_per_split=False,rm_same_tube=True,binwidth=binwidth,bmin=bmin,bmax=bmax)"
   ]
  },
  {
   "cell_type": "code",
   "execution_count": 10,
   "metadata": {},
   "outputs": [
    {
     "data": {
      "text/plain": [
       "dict_keys(['Ad', 'beta', '27', '39', '93', '145', '225', '280'])"
      ]
     },
     "execution_count": 10,
     "metadata": {},
     "output_type": "execute_result"
    }
   ],
   "source": [
    "mle.estimate_angles(0).keys()"
   ]
  },
  {
   "cell_type": "code",
   "execution_count": 7,
   "metadata": {},
   "outputs": [],
   "source": [
    "beta = []\n",
    "for i in range(100):\n",
    "    beta.append(mle.estimate_angles(i)['beta'])\n",
    "beta = np.array(beta)"
   ]
  },
  {
   "cell_type": "code",
   "execution_count": 8,
   "metadata": {},
   "outputs": [
    {
     "data": {
      "text/plain": [
       "0.33945288170197757"
      ]
     },
     "execution_count": 8,
     "metadata": {},
     "output_type": "execute_result"
    }
   ],
   "source": [
    "np.mean(beta)"
   ]
  },
  {
   "cell_type": "code",
   "execution_count": 9,
   "metadata": {},
   "outputs": [
    {
     "data": {
      "text/plain": [
       "1.5283886310796797"
      ]
     },
     "execution_count": 9,
     "metadata": {},
     "output_type": "execute_result"
    }
   ],
   "source": [
    "np.std(beta)"
   ]
  },
  {
   "cell_type": "code",
   "execution_count": 10,
   "metadata": {},
   "outputs": [
    {
     "data": {
      "text/plain": [
       "(array([ 1.,  0.,  0.,  0.,  0.,  0.,  0.,  0.,  0.,  1.,  0.,  0.,  0.,\n",
       "         0.,  0.,  1.,  0.,  1.,  1.,  2.,  2.,  3.,  5.,  5.,  6., 12.,\n",
       "         7., 18.,  8.,  6.,  4.,  4.,  4.,  1.,  2.,  0.,  1.,  1.,  1.,\n",
       "         0.,  0.,  0.,  0.,  0.,  0.,  1.,  0.,  0.,  1.,  1.]),\n",
       " array([-6.24977655, -6.00742386, -5.76507117, -5.52271848, -5.28036579,\n",
       "        -5.0380131 , -4.79566041, -4.55330772, -4.31095503, -4.06860234,\n",
       "        -3.82624965, -3.58389696, -3.34154426, -3.09919157, -2.85683888,\n",
       "        -2.61448619, -2.3721335 , -2.12978081, -1.88742812, -1.64507543,\n",
       "        -1.40272274, -1.16037005, -0.91801736, -0.67566467, -0.43331198,\n",
       "        -0.19095929,  0.0513934 ,  0.29374609,  0.53609879,  0.77845148,\n",
       "         1.02080417,  1.26315686,  1.50550955,  1.74786224,  1.99021493,\n",
       "         2.23256762,  2.47492031,  2.717273  ,  2.95962569,  3.20197838,\n",
       "         3.44433107,  3.68668376,  3.92903645,  4.17138914,  4.41374184,\n",
       "         4.65609453,  4.89844722,  5.14079991,  5.3831526 ,  5.62550529,\n",
       "         5.86785798]),\n",
       " <BarContainer object of 50 artists>)"
      ]
     },
     "execution_count": 10,
     "metadata": {},
     "output_type": "execute_result"
    },
    {
     "data": {
      "image/png": "[encoded data removed]",
      "text/plain": [
       "<Figure size 640x480 with 1 Axes>"
      ]
     },
     "metadata": {},
     "output_type": "display_data"
    }
   ],
   "source": [
    "plt.hist(beta, bins=50)"
   ]
  },
  {
   "cell_type": "code",
   "execution_count": null,
   "metadata": {},
   "outputs": [],
   "source": []
  }
 ],
 "metadata": {
  "kernelspec": {
   "display_name": "cb",
   "language": "python",
   "name": "python3"
  },
  "language_info": {
   "codemirror_mode": {
    "name": "ipython",
    "version": 3
   },
   "file_extension": ".py",
   "mimetype": "text/x-python",
   "name": "python",
   "nbconvert_exporter": "python",
   "pygments_lexer": "ipython3",
   "version": "3.10.15"
  }
 },
 "nbformat": 4,
 "nbformat_minor": 2
}
