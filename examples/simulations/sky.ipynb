{
 "cells": [
  {
   "cell_type": "code",
   "execution_count": 1,
   "metadata": {},
   "outputs": [],
   "source": [
    "import healpy as hp\n",
    "import matplotlib.pyplot as plt\n",
    "import sys\n",
    "import numpy as np\n",
    "from tqdm import tqdm\n",
    "sys.path.append('../../')"
   ]
  },
  {
   "cell_type": "code",
   "execution_count": 2,
   "metadata": {},
   "outputs": [],
   "source": [
    "%load_ext autoreload\n",
    "%autoreload 2\n",
    "from cobi.simulation import LATsky\n",
    "from cobi.spectra import Spectra\n",
    "from cobi.mle import MLE"
   ]
  },
  {
   "cell_type": "code",
   "execution_count": 3,
   "metadata": {},
   "outputs": [],
   "source": [
    "libdir = '/global/cfs/cdirs/sobs/cosmic_birefringence/v0'\n",
    "nside = 2048\n",
    "cb_model = \"iso\"\n",
    "beta = 0.35\n",
    "alpha = 0#[-0.1,-0.1,0.2,0.2,.15,.15]\n",
    "alpha_err = 0"
   ]
  },
  {
   "cell_type": "code",
   "execution_count": 4,
   "metadata": {},
   "outputs": [
    {
     "name": "stderr",
     "output_type": "stream",
     "text": [
      "CMB : INFO - Loading CMB power spectra from file\n"
     ]
    },
    {
     "name": "stderr",
     "output_type": "stream",
     "text": [
      "CMB : INFO - Isotropic(constant) cosmic birefringence model selected\n",
      "Mask : INFO - Upgrading mask LAT resolution\n",
      "Noise : INFO - Noise Model:[LAT] White + 1/f noise v3.1.1\n"
     ]
    }
   ],
   "source": [
    "lat = LATsky(libdir, nside, cb_model, beta, alpha=alpha,alpha_err=alpha_err, bandpass=False)"
   ]
  },
  {
   "cell_type": "code",
   "execution_count": 5,
   "metadata": {},
   "outputs": [
    {
     "data": {
      "text/plain": [
       "{'27-1': {'fwhm': 7.4, 'opt. tube': 'LF', 'alpha': 0},\n",
       " '39-1': {'fwhm': 5.1, 'opt. tube': 'LF', 'alpha': 0},\n",
       " '93-1': {'fwhm': 2.2, 'opt. tube': 'MF', 'alpha': 0},\n",
       " '145-1': {'fwhm': 1.4, 'opt. tube': 'MF', 'alpha': 0},\n",
       " '225-1': {'fwhm': 1.0, 'opt. tube': 'HF', 'alpha': 0},\n",
       " '280-1': {'fwhm': 0.9, 'opt. tube': 'HF', 'alpha': 0},\n",
       " '27-2': {'fwhm': 7.4, 'opt. tube': 'LF', 'alpha': 0},\n",
       " '39-2': {'fwhm': 5.1, 'opt. tube': 'LF', 'alpha': 0},\n",
       " '93-2': {'fwhm': 2.2, 'opt. tube': 'MF', 'alpha': 0},\n",
       " '145-2': {'fwhm': 1.4, 'opt. tube': 'MF', 'alpha': 0},\n",
       " '225-2': {'fwhm': 1.0, 'opt. tube': 'HF', 'alpha': 0},\n",
       " '280-2': {'fwhm': 0.9, 'opt. tube': 'HF', 'alpha': 0}}"
      ]
     },
     "execution_count": 5,
     "metadata": {},
     "output_type": "execute_result"
    }
   ],
   "source": [
    "lat.config"
   ]
  },
  {
   "cell_type": "code",
   "execution_count": 6,
   "metadata": {},
   "outputs": [
    {
     "name": "stderr",
     "output_type": "stream",
     "text": [
      "Spectra : INFO - Reading apodised mask from /global/cfs/cdirs/sobs/cosmic_birefringence/v0/spectra_2048_aposcale2p0/workspaces/mask_N2048_aposcale2p0_CO_PS.fits\n",
      "Spectra : INFO - Reading coupling Matrix from /global/cfs/cdirs/sobs/cosmic_birefringence/v0/spectra_2048_aposcale2p0/workspaces/coupling_matrix_N2048_fsky0p55_aposcale2p0_bw1_CO_PS.fits\n",
      "Spectra : INFO - No parallelization\n"
     ]
    }
   ],
   "source": [
    "spec = Spectra(lat, libdir, cache=True,parallel=0)\n",
    "#spec.Compute(3 , sync=True)"
   ]
  },
  {
   "cell_type": "code",
   "execution_count": 24,
   "metadata": {},
   "outputs": [
    {
     "name": "stderr",
     "output_type": "stream",
     "text": [
      "CMB : INFO - Loading CMB power spectra from file\n",
      "CMB : INFO - Isotropic(constant) cosmic birefringence model selected\n"
     ]
    },
    {
     "name": "stdout",
     "output_type": "stream",
     "text": [
      "Fitting a common polarisation angle per frequency\n"
     ]
    }
   ],
   "source": [
    "fit = \"Ad + beta + alpha\"\n",
    "binwidth = 10\n",
    "bmin = 50\n",
    "bmax = 2000\n",
    "mle = MLE(libdir,spec,fit, alpha_per_split=False,rm_same_tube=False,binwidth=binwidth,bmin=bmin,bmax=bmax)"
   ]
  },
  {
   "cell_type": "code",
   "execution_count": 25,
   "metadata": {},
   "outputs": [],
   "source": [
    "beta = []\n",
    "for i in range(100):\n",
    "    beta.append(mle.estimate_angles(i)['beta'])\n",
    "beta = np.array(beta)"
   ]
  },
  {
   "cell_type": "code",
   "execution_count": 22,
   "metadata": {},
   "outputs": [
    {
     "data": {
      "text/plain": [
       "0.3291588293400546"
      ]
     },
     "execution_count": 22,
     "metadata": {},
     "output_type": "execute_result"
    }
   ],
   "source": [
    "np.mean(beta)"
   ]
  },
  {
   "cell_type": "code",
   "execution_count": 26,
   "metadata": {},
   "outputs": [
    {
     "data": {
      "text/plain": [
       "0.06352732270922425"
      ]
     },
     "execution_count": 26,
     "metadata": {},
     "output_type": "execute_result"
    }
   ],
   "source": [
    "np.std(beta)"
   ]
  },
  {
   "cell_type": "code",
   "execution_count": null,
   "metadata": {},
   "outputs": [],
   "source": []
  }
 ],
 "metadata": {
  "kernelspec": {
   "display_name": "Python 3",
   "language": "python",
   "name": "python3"
  },
  "language_info": {
   "codemirror_mode": {
    "name": "ipython",
    "version": 3
   },
   "file_extension": ".py",
   "mimetype": "text/x-python",
   "name": "python",
   "nbconvert_exporter": "python",
   "pygments_lexer": "ipython3",
   "version": "3.10.15"
  }
 },
 "nbformat": 4,
 "nbformat_minor": 2
}
