{
 "cells": [
  {
   "cell_type": "code",
   "execution_count": 2,
   "metadata": {},
   "outputs": [],
   "source": [
    "import healpy as hp\n",
    "import matplotlib.pyplot as plt\n",
    "import sys\n",
    "import numpy as np\n",
    "from tqdm import tqdm\n",
    "import pymaster as nmt\n",
    "sys.path.append('../../')"
   ]
  },
  {
   "cell_type": "code",
   "execution_count": 3,
   "metadata": {},
   "outputs": [],
   "source": [
    "%load_ext autoreload\n",
    "%autoreload 2\n",
    "from cobi.simulation import Noise, Mask"
   ]
  },
  {
   "cell_type": "code",
   "execution_count": 4,
   "metadata": {},
   "outputs": [],
   "source": [
    "dir = '/global/cfs/cdirs/sobs/cosmic_birefringence/v0'\n",
    "nside = 2048"
   ]
  },
  {
   "cell_type": "markdown",
   "metadata": {},
   "source": [
    "# LAT"
   ]
  },
  {
   "cell_type": "code",
   "execution_count": 5,
   "metadata": {},
   "outputs": [
    {
     "name": "stderr",
     "output_type": "stream",
     "text": [
      "Mask : INFO - Upgrading mask LAT resolution\n",
      "Mask : INFO - Apodizing mask: scale 1: method: C2\n",
      "Mask : INFO - Apodizing changed the fsky 0.639 -> 0.631\n"
     ]
    }
   ],
   "source": [
    "LatMask = Mask(dir,nside,'LAT',apo_scale=1)"
   ]
  },
  {
   "cell_type": "code",
   "execution_count": 6,
   "metadata": {},
   "outputs": [],
   "source": [
    "mask = LatMask.mask"
   ]
  },
  {
   "cell_type": "code",
   "execution_count": 7,
   "metadata": {},
   "outputs": [
    {
     "name": "stderr",
     "output_type": "stream",
     "text": [
      "Noise : INFO - Noise Model: [LAT] Based on TOD and Map based simulations, directly using SO products.\n",
      "Noise : INFO - Noise Model:[LAT] White + 1/f noise v3.1.1\n"
     ]
    }
   ],
   "source": [
    "ntod = Noise(nside=2048,fsky=LatMask.fsky,telescope='LAT',sim='TOD')\n",
    "ncur = Noise(nside=2048,fsky=LatMask.fsky,telescope='LAT',sim='NC',atm_noise=True)"
   ]
  },
  {
   "cell_type": "code",
   "execution_count": 8,
   "metadata": {},
   "outputs": [],
   "source": [
    "nmaps_tod = ntod.noiseQU(0)\n",
    "nmaps_nc = ncur.noiseQU()"
   ]
  },
  {
   "cell_type": "code",
   "execution_count": 9,
   "metadata": {},
   "outputs": [],
   "source": [
    "lmax=2048"
   ]
  },
  {
   "cell_type": "code",
   "execution_count": 10,
   "metadata": {},
   "outputs": [],
   "source": [
    "wrk = nmt.NmtWorkspace()\n",
    "mask_f = nmt.NmtField(mask, [mask, mask], lmax=lmax, purify_b=False)\n",
    "binInfo = nmt.NmtBin.from_lmax_linear(lmax, 10)\n",
    "wrk.compute_coupling_matrix(mask_f, mask_f, binInfo)\n",
    "\n",
    "def compute_master(f_a,f_b):\n",
    "    cl_coupled = nmt.compute_coupled_cell(f_a, f_b)\n",
    "    cl_decoupled = wrk.decouple_cell(cl_coupled)\n",
    "    return cl_decoupled\n",
    "    \n",
    "b = binInfo.get_effective_ells()"
   ]
  },
  {
   "cell_type": "code",
   "execution_count": 11,
   "metadata": {},
   "outputs": [],
   "source": [
    "q27_tod, u27_tod = nmaps_tod[6]\n",
    "q27_cur, u27_cur = nmaps_nc[6]"
   ]
  },
  {
   "cell_type": "code",
   "execution_count": 12,
   "metadata": {},
   "outputs": [],
   "source": [
    "f27_tod = nmt.NmtField(mask, [q27_tod,u27_tod],lmax=lmax, purify_b=False)\n",
    "f27_cur = nmt.NmtField(mask, [q27_cur,u27_cur],lmax=lmax, purify_b=False)\n"
   ]
  },
  {
   "cell_type": "code",
   "execution_count": 13,
   "metadata": {},
   "outputs": [],
   "source": [
    "ee27_tod,_,_,bb27_tod = compute_master(f27_tod,f27_tod)\n",
    "ee27_cur,_,_,bb27_cur = compute_master(f27_cur,f27_cur)"
   ]
  },
  {
   "cell_type": "code",
   "execution_count": 14,
   "metadata": {},
   "outputs": [
    {
     "data": {
      "text/plain": [
       "<matplotlib.legend.Legend at 0x14e3a0b2e260>"
      ]
     },
     "execution_count": 14,
     "metadata": {},
     "output_type": "execute_result"
    },
    {
     "data": {
      "image/png": "[encoded data removed]",
      "text/plain": [
       "<Figure size 640x480 with 1 Axes>"
      ]
     },
     "metadata": {},
     "output_type": "display_data"
    }
   ],
   "source": [
    "\n",
    "plt.scatter(b,ee27_tod,label='27 TOD')\n",
    "plt.scatter(b,ee27_cur,label='27 CUR')\n",
    "plt.loglog()\n",
    "plt.legend()"
   ]
  },
  {
   "cell_type": "markdown",
   "metadata": {},
   "source": [
    "# SAT"
   ]
  },
  {
   "cell_type": "code",
   "execution_count": 15,
   "metadata": {},
   "outputs": [],
   "source": [
    "nside = 512"
   ]
  },
  {
   "cell_type": "code",
   "execution_count": 16,
   "metadata": {},
   "outputs": [
    {
     "name": "stderr",
     "output_type": "stream",
     "text": [
      "Mask : INFO - Downgrading mask SAT resolution\n",
      "Mask : INFO - Apodizing mask: scale 1: method: C2\n",
      "Mask : INFO - Apodizing changed the fsky 0.117 -> 0.113\n"
     ]
    }
   ],
   "source": [
    "SatMask = Mask(dir,nside,'SAT',apo_scale=1)"
   ]
  },
  {
   "cell_type": "code",
   "execution_count": 17,
   "metadata": {},
   "outputs": [],
   "source": [
    "mask = SatMask.mask"
   ]
  },
  {
   "cell_type": "code",
   "execution_count": 53,
   "metadata": {},
   "outputs": [
    {
     "name": "stderr",
     "output_type": "stream",
     "text": [
      "/pscratch/sd/l/lonappan/software_pkgs/cb/lib/python3.10/site-packages/so_models_v3/SO_Noise_Calculator_Public_v3_1_1.py:215: RuntimeWarning: divide by zero encountered in scalar divide\n",
      "  cov_weight[i,j] += ( tube_count * N_tels /\n",
      "Noise : INFO - Noise Model: [SAT] Based on TOD and Map based simulations, directly using SO products.\n",
      "Noise : INFO - Noise Model:[SAT] White + 1/f noise v3.1.1\n"
     ]
    }
   ],
   "source": [
    "ntod = Noise(nside=512,fsky=SatMask.fsky,telescope='SAT',sim='TOD')\n",
    "ncur = Noise(nside=512,fsky=SatMask.fsky,telescope='SAT',sim='NC',atm_noise=True)"
   ]
  },
  {
   "cell_type": "code",
   "execution_count": 54,
   "metadata": {},
   "outputs": [],
   "source": [
    "nmaps_tod = ntod.noiseQU(0)\n",
    "nmaps_nc = ncur.noiseQU()"
   ]
  },
  {
   "cell_type": "code",
   "execution_count": 55,
   "metadata": {},
   "outputs": [],
   "source": [
    "lmax=1000"
   ]
  },
  {
   "cell_type": "code",
   "execution_count": 56,
   "metadata": {},
   "outputs": [],
   "source": [
    "wrk = nmt.NmtWorkspace()\n",
    "mask_f = nmt.NmtField(mask, [mask, mask], lmax=lmax, purify_b=False)\n",
    "binInfo = nmt.NmtBin.from_lmax_linear(lmax, 10)\n",
    "wrk.compute_coupling_matrix(mask_f, mask_f, binInfo)\n",
    "\n",
    "def compute_master(f_a,f_b):\n",
    "    cl_coupled = nmt.compute_coupled_cell(f_a, f_b)\n",
    "    cl_decoupled = wrk.decouple_cell(cl_coupled)\n",
    "    return cl_decoupled\n",
    "    \n",
    "b = binInfo.get_effective_ells()"
   ]
  },
  {
   "cell_type": "code",
   "execution_count": 57,
   "metadata": {},
   "outputs": [],
   "source": [
    "q27_tod, u27_tod = nmaps_tod[0]\n",
    "q27_cur, u27_cur = nmaps_nc[0]"
   ]
  },
  {
   "cell_type": "code",
   "execution_count": 58,
   "metadata": {},
   "outputs": [],
   "source": [
    "f27_tod = nmt.NmtField(mask, [q27_tod,u27_tod],lmax=lmax, purify_b=False)\n",
    "f27_cur = nmt.NmtField(mask, [q27_cur,u27_cur],lmax=lmax, purify_b=False)"
   ]
  },
  {
   "cell_type": "code",
   "execution_count": 59,
   "metadata": {},
   "outputs": [],
   "source": [
    "ee27_tod,_,_,bb27_tod = compute_master(f27_tod,f27_tod)\n",
    "ee27_cur,_,_,bb27_cur = compute_master(f27_cur,f27_cur)"
   ]
  },
  {
   "cell_type": "code",
   "execution_count": 52,
   "metadata": {},
   "outputs": [
    {
     "data": {
      "text/plain": [
       "<matplotlib.legend.Legend at 0x14e39eab9420>"
      ]
     },
     "execution_count": 52,
     "metadata": {},
     "output_type": "execute_result"
    },
    {
     "data": {
      "image/png": "[encoded data removed]",
      "text/plain": [
       "<Figure size 640x480 with 1 Axes>"
      ]
     },
     "metadata": {},
     "output_type": "display_data"
    }
   ],
   "source": [
    "plt.scatter(b,ee27_tod,label='27 TOD')\n",
    "plt.scatter(b,ee27_cur,label='27 CUR')\n",
    "plt.loglog(ncur.Nell['27']*2)\n",
    "plt.loglog()\n",
    "plt.legend()"
   ]
  },
  {
   "cell_type": "code",
   "execution_count": 27,
   "metadata": {},
   "outputs": [
    {
     "data": {
      "text/plain": [
       "0.007574791073144307"
      ]
     },
     "execution_count": 27,
     "metadata": {},
     "output_type": "execute_result"
    }
   ],
   "source": [
    "ncur.Nell['27'][2]"
   ]
  },
  {
   "cell_type": "code",
   "execution_count": null,
   "metadata": {},
   "outputs": [],
   "source": []
  }
 ],
 "metadata": {
  "kernelspec": {
   "display_name": "cb",
   "language": "python",
   "name": "python3"
  },
  "language_info": {
   "codemirror_mode": {
    "name": "ipython",
    "version": 3
   },
   "file_extension": ".py",
   "mimetype": "text/x-python",
   "name": "python",
   "nbconvert_exporter": "python",
   "pygments_lexer": "ipython3",
   "version": "3.10.15"
  }
 },
 "nbformat": 4,
 "nbformat_minor": 2
}
