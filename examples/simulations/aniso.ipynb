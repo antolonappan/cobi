{
 "cells": [
  {
   "cell_type": "code",
   "execution_count": 1,
   "id": "a782c827",
   "metadata": {},
   "outputs": [],
   "source": [
    "import healpy as hp\n",
    "import matplotlib.pyplot as plt\n",
    "import numpy as np\n",
    "import camb"
   ]
  },
  {
   "cell_type": "code",
   "execution_count": 2,
   "id": "5b75d142",
   "metadata": {},
   "outputs": [],
   "source": [
    "import sys\n",
    "sys.path.append('../../')"
   ]
  },
  {
   "cell_type": "code",
   "execution_count": 3,
   "id": "f9aec504",
   "metadata": {},
   "outputs": [],
   "source": [
    "%load_ext autoreload\n",
    "%autoreload 2\n",
    "from cobi.simulation import LATsky, Mask\n",
    "from cobi.quest import FilterEB\n",
    "from cobi.sht import HealpixDUCC"
   ]
  },
  {
   "cell_type": "code",
   "execution_count": 4,
   "id": "b666c666",
   "metadata": {},
   "outputs": [
    {
     "name": "stderr",
     "output_type": "stream",
     "text": [
      "CMB : INFO - Loading CMB power spectra from file\n",
      "CMB : INFO - Anisotropic cosmic birefringence model selected\n",
      "Noise : INFO - Noise Model:[LAT] White + 1/f noise v3.1.1\n"
     ]
    }
   ],
   "source": [
    "dir = '/global/cfs/cdirs/sobs/cosmic_birefringence/v1'\n",
    "alpha = [-0.1,-0.1,0.2,0.2,.15,.15]\n",
    "alpha_err = 0.1\n",
    "latsky = LATsky(dir, nside=1024, cb_model='aniso',Acb=4.0e-6, AEcb=-1.0e-3,lensing=False,alpha=alpha,alpha_err=alpha_err,nsplits=1)"
   ]
  },
  {
   "cell_type": "code",
   "execution_count": 5,
   "id": "e212d7b0",
   "metadata": {},
   "outputs": [
    {
     "name": "stderr",
     "output_type": "stream",
     "text": [
      "Mask : INFO - The given galactic cut value seems in fsky and it corresponds to 80.0% of sky\n",
      "Mask : INFO - Loading composite mask\n",
      "Mask : INFO - Upgrading mask LAT resolution\n",
      "Mask : INFO - Upgrading mask CO resolution\n",
      "Mask : INFO - Upgrading mask PS resolution\n",
      "Mask : INFO - Upgrading mask GAL resolution\n",
      "Mask : INFO - Composite Mask LATxCOxPSxGAL: fsky changed 0.93 -> 0.51  \n",
      "Mask : INFO - Apodizing mask: scale 2: method: C2\n",
      "Mask : INFO - Apodizing changed the fsky 0.514 -> 0.481\n"
     ]
    }
   ],
   "source": [
    "mask = Mask(latsky.basedir, latsky.nside,'LATxCOxPSxGAL', 2, gal_cut=0.8)"
   ]
  },
  {
   "cell_type": "code",
   "execution_count": 6,
   "id": "6e2f2501",
   "metadata": {},
   "outputs": [],
   "source": [
    "filt = FilterEB(latsky, lmax=3000, mask=mask.mask,sht_backend='d')"
   ]
  },
  {
   "cell_type": "code",
   "execution_count": null,
   "id": "559f503f",
   "metadata": {},
   "outputs": [
    {
     "name": "stderr",
     "output_type": "stream",
     "text": [
      "Computing HILC Observed QUs:  67%|██████▋   | 4/6 [21:12<08:59, 269.75s/band]"
     ]
    }
   ],
   "source": [
    "latsky.HILC_obsEB(0)"
   ]
  },
  {
   "cell_type": "code",
   "execution_count": null,
   "id": "201177e4",
   "metadata": {},
   "outputs": [],
   "source": []
  }
 ],
 "metadata": {
  "kernelspec": {
   "display_name": "cb",
   "language": "python",
   "name": "python3"
  },
  "language_info": {
   "codemirror_mode": {
    "name": "ipython",
    "version": 3
   },
   "file_extension": ".py",
   "mimetype": "text/x-python",
   "name": "python",
   "nbconvert_exporter": "python",
   "pygments_lexer": "ipython3",
   "version": "3.10.15"
  }
 },
 "nbformat": 4,
 "nbformat_minor": 5
}
